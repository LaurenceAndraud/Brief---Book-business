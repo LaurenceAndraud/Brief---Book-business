{
 "cells": [
  {
   "cell_type": "code",
   "execution_count": null,
   "id": "d0c298bd",
   "metadata": {},
   "outputs": [],
   "source": [
    "import pandas as pd\n",
    "import numpy as np\n",
    "import math\n",
    "import matplotlib.pyplot as plt\n",
    "import statistics\n",
    "import seaborn as sns\n",
    "import sklearn as sk\n",
    "from sklearn import ensemble\n",
    "from datetime import datetime\n",
    "import scipy.stats as stats"
   ]
  },
  {
   "cell_type": "code",
   "execution_count": null,
   "id": "e4ed735e",
   "metadata": {},
   "outputs": [],
   "source": [
    "# Mission 1 -\n",
    "# faire du nettoyage\n",
    "# voir pour faire des choix sur le traitement \n",
    "# des valeurs manquantes ou aberrantes"
   ]
  },
  {
   "cell_type": "code",
   "execution_count": null,
   "id": "dc99c3b1",
   "metadata": {
    "scrolled": true
   },
   "outputs": [],
   "source": [
    "clients = pd.read_csv(\"clients.csv\")\n",
    "clients"
   ]
  },
  {
   "cell_type": "code",
   "execution_count": null,
   "id": "2b0a9cda",
   "metadata": {},
   "outputs": [],
   "source": [
    "clients.info()\n",
    "# this df seems clear with no null values (8623/8623)\n",
    "# like the others df, by the way"
   ]
  },
  {
   "cell_type": "code",
   "execution_count": null,
   "id": "9ea30e01",
   "metadata": {},
   "outputs": [],
   "source": [
    "# check duplicates (here, nothing ...)\n",
    "clients = clients.drop_duplicates()\n",
    "len(clients)"
   ]
  },
  {
   "cell_type": "code",
   "execution_count": null,
   "id": "84f6352f",
   "metadata": {},
   "outputs": [],
   "source": [
    "clients.isnull().sum().sort_values(ascending = False)/len(clients)"
   ]
  },
  {
   "cell_type": "code",
   "execution_count": null,
   "id": "84ea16f5",
   "metadata": {},
   "outputs": [],
   "source": [
    "produits = pd.read_csv(\"produits.csv\")\n",
    "produits"
   ]
  },
  {
   "cell_type": "code",
   "execution_count": null,
   "id": "8414df71",
   "metadata": {},
   "outputs": [],
   "source": [
    "produits.info()"
   ]
  },
  {
   "cell_type": "code",
   "execution_count": null,
   "id": "1993bf9c",
   "metadata": {},
   "outputs": [],
   "source": [
    "produits = produits.drop_duplicates()\n",
    "len(produits)"
   ]
  },
  {
   "cell_type": "code",
   "execution_count": null,
   "id": "2e1de066",
   "metadata": {},
   "outputs": [],
   "source": [
    "produits.isnull().sum().sort_values(ascending = False)/len(produits)"
   ]
  },
  {
   "cell_type": "code",
   "execution_count": null,
   "id": "1c522de4",
   "metadata": {},
   "outputs": [],
   "source": [
    "produits['price'].values"
   ]
  },
  {
   "cell_type": "code",
   "execution_count": null,
   "id": "0c739570",
   "metadata": {},
   "outputs": [],
   "source": [
    "produits[['price']].boxplot()"
   ]
  },
  {
   "cell_type": "code",
   "execution_count": null,
   "id": "00fa22e8",
   "metadata": {},
   "outputs": [],
   "source": [
    "produits['price'].min()"
   ]
  },
  {
   "cell_type": "code",
   "execution_count": null,
   "id": "646a2837",
   "metadata": {},
   "outputs": [],
   "source": [
    "produits['price'].max()\n",
    "# il peut s'agir d'un livre très cher\n",
    "# mais ce n'est pas l'extrême le plus aberrant ici"
   ]
  },
  {
   "cell_type": "code",
   "execution_count": null,
   "id": "30a98abc",
   "metadata": {},
   "outputs": [],
   "source": [
    "neg = produits[produits['price'].between(-1, 0)]\n",
    "neg\n",
    "# delete the values because a price can't be negative"
   ]
  },
  {
   "cell_type": "code",
   "execution_count": null,
   "id": "f12bf489",
   "metadata": {},
   "outputs": [],
   "source": [
    "new_produits = produits.drop([produits.index[731]])\n",
    "new_produits"
   ]
  },
  {
   "cell_type": "code",
   "execution_count": null,
   "id": "578ab9f7",
   "metadata": {},
   "outputs": [],
   "source": [
    "ventes = pd.read_csv(\"ventes.csv\")\n",
    "ventes"
   ]
  },
  {
   "cell_type": "code",
   "execution_count": null,
   "id": "079bb476",
   "metadata": {},
   "outputs": [],
   "source": [
    "ventes.info()"
   ]
  },
  {
   "cell_type": "code",
   "execution_count": null,
   "id": "e2906acf",
   "metadata": {},
   "outputs": [],
   "source": [
    "ventes = ventes.drop_duplicates()\n",
    "len(ventes)\n",
    "# here, there are some duplicates"
   ]
  },
  {
   "cell_type": "code",
   "execution_count": null,
   "id": "86e5d393",
   "metadata": {},
   "outputs": [],
   "source": [
    "ventes.isnull().sum().sort_values(ascending = False)/len(ventes)"
   ]
  },
  {
   "cell_type": "code",
   "execution_count": null,
   "id": "439b761e",
   "metadata": {},
   "outputs": [],
   "source": [
    "new_data = ventes.merge(clients, how='left', on=\"client_id\").merge(new_produits, how='left', on='id_prod')\n",
    "new_data"
   ]
  },
  {
   "cell_type": "code",
   "execution_count": null,
   "id": "be3fd048",
   "metadata": {},
   "outputs": [],
   "source": [
    "new_data.info()\n",
    "# price et categ ont le même nbre de valeurs manquantes\n",
    "# des clients n'ont pas de prix associés, donc pas intéressants dans total vente"
   ]
  },
  {
   "cell_type": "code",
   "execution_count": null,
   "id": "f291be18",
   "metadata": {},
   "outputs": [],
   "source": [
    "new_data = new_data.drop_duplicates()\n",
    "len(new_data)"
   ]
  },
  {
   "cell_type": "code",
   "execution_count": null,
   "id": "ff5c0348",
   "metadata": {},
   "outputs": [],
   "source": [
    "# Pas de doublons ou de valeurs manquantes après le merge\n",
    "# Mais maintenant on peut associer des ventes avec des clients\n",
    "# et des ventes à des produits grâce au merge"
   ]
  },
  {
   "cell_type": "code",
   "execution_count": null,
   "id": "faf4b7b4",
   "metadata": {},
   "outputs": [],
   "source": [
    "# afficher les clients sans prix ou categ de produits\n",
    "new_data[(new_data['price'].isnull()) & (new_data['categ'].isnull())]"
   ]
  },
  {
   "cell_type": "code",
   "execution_count": null,
   "id": "13e65c55",
   "metadata": {},
   "outputs": [],
   "source": [
    "# afficher les données 'test' et qui n'apportent pas d'info au final ...\n",
    "test = new_data[\n",
    "    (new_data['date'].str.contains('test_')) &\n",
    "    (new_data['id_prod']=='T_0') &  \n",
    "    (new_data['session_id']=='s_0')]\n",
    "test"
   ]
  },
  {
   "cell_type": "code",
   "execution_count": null,
   "id": "673a2e25",
   "metadata": {},
   "outputs": [],
   "source": [
    "new_data = new_data.drop(test.index).reset_index()\n",
    "new_data"
   ]
  },
  {
   "cell_type": "code",
   "execution_count": null,
   "id": "fcd2aa13",
   "metadata": {},
   "outputs": [],
   "source": [
    "# Mission 2 -\n",
    "# analyse des données et trouver du sens pour comprendre les ventes\n",
    "# indicateurs de tendance centrale et de dispersion\n",
    "# analyse de concentration par courbe de Lorenz/indicateur de Gini\n",
    "# représentation graphique (histogramme, boxplot, séries temporelles)\n",
    "# analyses bivariées"
   ]
  },
  {
   "cell_type": "code",
   "execution_count": null,
   "id": "8fc9e013",
   "metadata": {},
   "outputs": [],
   "source": [
    "# moyenne des prix\n",
    "moy = sum(new_data['price'])/len(new_data['price'])\n",
    "moy"
   ]
  },
  {
   "cell_type": "code",
   "execution_count": null,
   "id": "859f71be",
   "metadata": {},
   "outputs": [],
   "source": [
    "# médiane des prix\n",
    "me = statistics.median(new_data['price'])\n",
    "me"
   ]
  },
  {
   "cell_type": "code",
   "execution_count": null,
   "id": "13e5e1de",
   "metadata": {},
   "outputs": [],
   "source": [
    "# calcul variance\n",
    "var = sum((xi - moy) ** 2 for xi in new_data['price'] / len(new_data['price']))\n",
    "var"
   ]
  },
  {
   "cell_type": "code",
   "execution_count": null,
   "id": "0e0650ae",
   "metadata": {},
   "outputs": [],
   "source": [
    "# calcul écart-type\n",
    "var_res = var ** (0.5)\n",
    "var_res"
   ]
  },
  {
   "cell_type": "code",
   "execution_count": null,
   "id": "a9ecdc04",
   "metadata": {},
   "outputs": [],
   "source": [
    "# Boxplot sur les prix par rapport aux ventes réalisées\n",
    "new_data[['price']].boxplot()"
   ]
  },
  {
   "cell_type": "code",
   "execution_count": null,
   "id": "ad957536",
   "metadata": {},
   "outputs": [],
   "source": [
    "# Histogramme de la répartition des prix des différents livres\n",
    "histogram = new_data['price'].plot.hist()\n",
    "plt.show()"
   ]
  },
  {
   "cell_type": "code",
   "execution_count": null,
   "id": "00ac8a50",
   "metadata": {},
   "outputs": [],
   "source": [
    "# Histogramme de la répartition des clients par âge\n",
    "histogr = new_data['birth'].plot.hist()\n",
    "\n",
    "plt.show()"
   ]
  },
  {
   "cell_type": "code",
   "execution_count": null,
   "id": "642d07d6",
   "metadata": {},
   "outputs": [],
   "source": [
    "plt.figure(figsize=(8, 5))\n",
    "heatmap = sns.heatmap(new_data.corr(), mask=np.triu(np.ones_like(new_data.corr(), dtype=np.bool)), vmin=-1, vmax=1, annot=True, cmap='BrBG')\n",
    "heatmap.set_title('Triangle de corrélations', fontdict={'fontsize':16}, pad=24)\n",
    "plt.xticks(rotation=45)\n",
    "plt.show()"
   ]
  },
  {
   "cell_type": "code",
   "execution_count": null,
   "id": "e75faa2d",
   "metadata": {
    "scrolled": true
   },
   "outputs": [],
   "source": [
    "plt.figure(figsize=(8,3))\n",
    "sns.boxplot(data=new_data, y='categ', x='price', orient='h', showfliers=False, showmeans=True, palette=[\"#64ffda\", \"#536dfe\", \"#ff6e40\"], meanprops={\"marker\":\"s\",\"markerfacecolor\":\"white\"})\n",
    "plt.title('Distribution des prix par catégorie')\n",
    "plt.show()"
   ]
  },
  {
   "cell_type": "code",
   "execution_count": null,
   "id": "5452e1e5",
   "metadata": {},
   "outputs": [],
   "source": [
    "print('Catégorie 0 :',\n",
    "    '\\n- Prix moyen :', round(new_data[new_data['categ']==0]['price'].mean(), 2), \n",
    "    '\\n- Prix médian :', new_data[new_data['categ']==0]['price'].median(), \n",
    "    '\\n- Mode :', new_data[new_data['categ']==0]['price'].mode().values[0])"
   ]
  },
  {
   "cell_type": "code",
   "execution_count": null,
   "id": "3e35846d",
   "metadata": {
    "scrolled": true
   },
   "outputs": [],
   "source": [
    "print('Catégorie 1 :',\n",
    "    '\\n- Prix moyen :', round(new_data[new_data['categ']==1]['price'].mean(), 2), \n",
    "    '\\n- Prix médian :', new_data[new_data['categ']==1]['price'].median(), \n",
    "    '\\n- Mode :', new_data[new_data['categ']==1]['price'].mode().values[0])"
   ]
  },
  {
   "cell_type": "code",
   "execution_count": null,
   "id": "99ace741",
   "metadata": {},
   "outputs": [],
   "source": [
    "print('Catégorie 2 :',\n",
    "    '\\n- Prix moyen :', round(new_data[new_data['categ']==2]['price'].mean(), 2), \n",
    "    '\\n- Prix médian :', new_data[new_data['categ']==2]['price'].median(), \n",
    "    '\\n- Mode :', new_data[new_data['categ']==2]['price'].mode().values[0])"
   ]
  },
  {
   "cell_type": "code",
   "execution_count": null,
   "id": "e8412116",
   "metadata": {},
   "outputs": [],
   "source": [
    "# Courbe de Lorenz\n",
    "depenses = new_data[new_data['price'] < 0]\n",
    "dep = -depenses['price'].values\n",
    "n = len(dep)\n",
    "lorenz = np.cumsum(np.sort(dep)) / dep.sum()\n",
    "lorenz = np.append([0],lorenz)\n",
    "xaxis = np.linspace(0-1/n,1+1/n,n+1) \n",
    "plt.plot(xaxis,lorenz,drawstyle='steps-post')\n",
    "plt.show()"
   ]
  },
  {
   "cell_type": "code",
   "execution_count": null,
   "id": "670108cf",
   "metadata": {},
   "outputs": [],
   "source": [
    "# conversion de la variable date en datetime\n",
    "new_data['date'] = pd.to_datetime(new_data['date'], format='%Y-%m-%d')\n",
    "new_data['date'].values"
   ]
  },
  {
   "cell_type": "code",
   "execution_count": null,
   "id": "9e57cbc7",
   "metadata": {},
   "outputs": [],
   "source": [
    "# Dates de transaction la plus ancienne et la plus récente\n",
    "print('Transactions du', str(new_data['date'].min())[:10], 'au', str(new_data['date'].max())[:10])"
   ]
  },
  {
   "cell_type": "code",
   "execution_count": null,
   "id": "5cfbdde5",
   "metadata": {},
   "outputs": [],
   "source": [
    "# Séries temporelles - volume des ventes par date et catégorie\n",
    "plt.figure(figsize=(12,8))\n",
    "sns.histplot(data=new_data, x='date', hue='categ')\n",
    "plt.xticks(rotation=45)\n",
    "plt.title('Volume des ventes par date et catégorie')\n",
    "plt.show()"
   ]
  },
  {
   "cell_type": "code",
   "execution_count": null,
   "id": "2e773cba",
   "metadata": {},
   "outputs": [],
   "source": [
    "# Mission 3 -\n",
    "# corrélation entre le sexe et catégories produits achetés ?\n",
    "# corrélation âge client et montant total des achats ?\n",
    "# fréquence d'achat ?\n",
    "# taille du panier moyen ?\n",
    "# catégories de produits achetés ?"
   ]
  },
  {
   "cell_type": "code",
   "execution_count": null,
   "id": "f748d862",
   "metadata": {},
   "outputs": [],
   "source": [
    "men_o = new_data.loc[(new_data[\"sex\"]==\"m\") & (new_data[\"categ\"]==0.0)]\n",
    "men_o"
   ]
  },
  {
   "cell_type": "code",
   "execution_count": null,
   "id": "47057937",
   "metadata": {},
   "outputs": [],
   "source": [
    "men_o = men_o.groupby(by = ['categ']).size().reset_index(name = 'sex')\n",
    "men_o"
   ]
  },
  {
   "cell_type": "code",
   "execution_count": null,
   "id": "3ed367f5",
   "metadata": {},
   "outputs": [],
   "source": [
    "men_one = new_data.loc[(new_data[\"sex\"]==\"m\") & (new_data[\"categ\"]==1.0)]\n",
    "men_one"
   ]
  },
  {
   "cell_type": "code",
   "execution_count": null,
   "id": "604fd2a8",
   "metadata": {},
   "outputs": [],
   "source": [
    "men_one = men_one.groupby(by = ['categ']).size().reset_index(name = 'sex')\n",
    "men_one"
   ]
  },
  {
   "cell_type": "code",
   "execution_count": null,
   "id": "63ccae8f",
   "metadata": {},
   "outputs": [],
   "source": [
    "men_two = new_data.loc[(new_data[\"sex\"]==\"m\") & (new_data[\"categ\"]==2.0)]\n",
    "men_two"
   ]
  },
  {
   "cell_type": "code",
   "execution_count": null,
   "id": "fd0b1d3e",
   "metadata": {},
   "outputs": [],
   "source": [
    "men_two = men_two.groupby(by = ['categ']).size().reset_index(name = 'sex')\n",
    "men_two"
   ]
  },
  {
   "cell_type": "code",
   "execution_count": null,
   "id": "4b025dec",
   "metadata": {},
   "outputs": [],
   "source": [
    "men = men_two.append(men_one)\n",
    "men"
   ]
  },
  {
   "cell_type": "code",
   "execution_count": null,
   "id": "20fabddb",
   "metadata": {},
   "outputs": [],
   "source": [
    "men = men.append(men_o)\n",
    "men"
   ]
  },
  {
   "cell_type": "code",
   "execution_count": null,
   "id": "ee1728d3",
   "metadata": {},
   "outputs": [],
   "source": [
    "effectif = men.value_counts()\n",
    "plt.pie(effectif,labels=effectif.index)\n",
    "plt.show()"
   ]
  },
  {
   "cell_type": "code",
   "execution_count": null,
   "id": "fb3afb0d",
   "metadata": {},
   "outputs": [],
   "source": [
    "fem_o = new_data.loc[(new_data[\"sex\"]==\"f\") & (new_data[\"categ\"]==0.0)]\n",
    "fem_o"
   ]
  },
  {
   "cell_type": "code",
   "execution_count": null,
   "id": "daf2e2ba",
   "metadata": {},
   "outputs": [],
   "source": [
    "fem_o = fem_o.groupby(by = ['categ']).size().reset_index(name = 'sex')\n",
    "fem_o"
   ]
  },
  {
   "cell_type": "code",
   "execution_count": null,
   "id": "30b51acd",
   "metadata": {},
   "outputs": [],
   "source": [
    "fem_one = new_data.loc[(new_data[\"sex\"]==\"f\") & (new_data[\"categ\"]==1.0)]\n",
    "fem_one"
   ]
  },
  {
   "cell_type": "code",
   "execution_count": null,
   "id": "9ab314ee",
   "metadata": {},
   "outputs": [],
   "source": [
    "fem_one = fem_one.groupby(by = ['categ']).size().reset_index(name = 'sex')\n",
    "fem_one"
   ]
  },
  {
   "cell_type": "code",
   "execution_count": null,
   "id": "58215ff3",
   "metadata": {},
   "outputs": [],
   "source": [
    "fem_two = new_data.loc[(new_data[\"sex\"]==\"f\") & (new_data[\"categ\"]==2.0)]\n",
    "fem_two"
   ]
  },
  {
   "cell_type": "code",
   "execution_count": null,
   "id": "d3793378",
   "metadata": {
    "scrolled": true
   },
   "outputs": [],
   "source": [
    "fem_two = fem_two.groupby(by = ['categ']).size().reset_index(name = 'sex')\n",
    "fem_two"
   ]
  },
  {
   "cell_type": "code",
   "execution_count": null,
   "id": "d323a1e2",
   "metadata": {
    "scrolled": true
   },
   "outputs": [],
   "source": [
    "fem = fem_two.append(fem_one)\n",
    "fem"
   ]
  },
  {
   "cell_type": "code",
   "execution_count": null,
   "id": "9ae1a12f",
   "metadata": {},
   "outputs": [],
   "source": [
    "fem = fem.append(fem_o)\n",
    "fem"
   ]
  },
  {
   "cell_type": "code",
   "execution_count": null,
   "id": "999e658e",
   "metadata": {},
   "outputs": [],
   "source": []
  }
 ],
 "metadata": {
  "kernelspec": {
   "display_name": "Python 3 (ipykernel)",
   "language": "python",
   "name": "python3"
  },
  "language_info": {
   "codemirror_mode": {
    "name": "ipython",
    "version": 3
   },
   "file_extension": ".py",
   "mimetype": "text/x-python",
   "name": "python",
   "nbconvert_exporter": "python",
   "pygments_lexer": "ipython3",
   "version": "3.9.12"
  }
 },
 "nbformat": 4,
 "nbformat_minor": 5
}
