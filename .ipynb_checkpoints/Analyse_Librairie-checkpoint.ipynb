{
 "cells": [
  {
   "cell_type": "code",
   "execution_count": null,
   "id": "d4fb6b4b",
   "metadata": {},
   "outputs": [],
   "source": [
    "import pandas as pd\n",
    "import numpy as np\n",
    "import math\n",
    "import matplotlib.pyplot as plt\n",
    "import statistics\n",
    "import seaborn as sns\n",
    "import sklearn as sk\n",
    "from sklearn import ensemble\n",
    "from datetime import datetime\n",
    "import scipy.stats as stats"
   ]
  },
  {
   "cell_type": "code",
   "execution_count": null,
   "id": "4f2872bb",
   "metadata": {},
   "outputs": [],
   "source": [
    "# Mission 1 -\n",
    "# faire du nettoyage\n",
    "# voir pour faire des choix sur le traitement \n",
    "# des valeurs manquantes ou aberrantes"
   ]
  },
  {
   "cell_type": "code",
   "execution_count": null,
   "id": "bb4d681e",
   "metadata": {},
   "outputs": [],
   "source": [
    "clients = pd.read_csv(\"clients.csv\")\n",
    "clients"
   ]
  },
  {
   "cell_type": "code",
   "execution_count": null,
   "id": "68cd2ac7",
   "metadata": {
    "scrolled": true
   },
   "outputs": [],
   "source": [
    "clients.info()\n",
    "# this df seems clear with no null values (8623/8623)\n",
    "# like the others df, by the way"
   ]
  },
  {
   "cell_type": "code",
   "execution_count": null,
   "id": "6cb7becd",
   "metadata": {},
   "outputs": [],
   "source": [
    "# check duplicates (here, nothing ...)\n",
    "clients = clients.drop_duplicates()\n",
    "len(clients)"
   ]
  },
  {
   "cell_type": "code",
   "execution_count": null,
   "id": "e386180f",
   "metadata": {},
   "outputs": [],
   "source": [
    "clients.isnull().sum().sort_values(ascending = False)/len(clients)"
   ]
  },
  {
   "cell_type": "code",
   "execution_count": null,
   "id": "0c0acb09",
   "metadata": {},
   "outputs": [],
   "source": [
    "produits = pd.read_csv(\"produits.csv\")\n",
    "produits"
   ]
  },
  {
   "cell_type": "code",
   "execution_count": null,
   "id": "5b6b8b42",
   "metadata": {},
   "outputs": [],
   "source": [
    "produits.info()"
   ]
  },
  {
   "cell_type": "code",
   "execution_count": null,
   "id": "046105d7",
   "metadata": {},
   "outputs": [],
   "source": [
    "produits = produits.drop_duplicates()\n",
    "len(produits)"
   ]
  },
  {
   "cell_type": "code",
   "execution_count": null,
   "id": "5f042c90",
   "metadata": {},
   "outputs": [],
   "source": [
    "produits.isnull().sum().sort_values(ascending = False)/len(produits)"
   ]
  },
  {
   "cell_type": "code",
   "execution_count": null,
   "id": "0cd11eb9",
   "metadata": {},
   "outputs": [],
   "source": [
    "produits['price'].values"
   ]
  },
  {
   "cell_type": "code",
   "execution_count": null,
   "id": "abc264cf",
   "metadata": {},
   "outputs": [],
   "source": [
    "produits[['price']].boxplot()"
   ]
  },
  {
   "cell_type": "code",
   "execution_count": null,
   "id": "c424f72b",
   "metadata": {},
   "outputs": [],
   "source": [
    "produits['price'].min()"
   ]
  },
  {
   "cell_type": "code",
   "execution_count": null,
   "id": "c27e062b",
   "metadata": {},
   "outputs": [],
   "source": [
    "produits['price'].max()"
   ]
  },
  {
   "cell_type": "code",
   "execution_count": null,
   "id": "6b9e12aa",
   "metadata": {},
   "outputs": [],
   "source": [
    "neg = produits[produits['price'].between(-1, 0)]\n",
    "neg\n",
    "# delete the values because a price can't be negative"
   ]
  },
  {
   "cell_type": "code",
   "execution_count": null,
   "id": "bff8cb8b",
   "metadata": {},
   "outputs": [],
   "source": [
    "new_produits = produits.drop([produits.index[731]])\n",
    "new_produits"
   ]
  },
  {
   "cell_type": "code",
   "execution_count": null,
   "id": "3fff5584",
   "metadata": {},
   "outputs": [],
   "source": [
    "ventes = pd.read_csv(\"ventes.csv\")\n",
    "ventes"
   ]
  },
  {
   "cell_type": "code",
   "execution_count": null,
   "id": "b8680352",
   "metadata": {},
   "outputs": [],
   "source": [
    "ventes.info()"
   ]
  },
  {
   "cell_type": "code",
   "execution_count": null,
   "id": "1dd23bfd",
   "metadata": {},
   "outputs": [],
   "source": [
    "ventes = ventes.drop_duplicates()\n",
    "len(ventes)\n",
    "# here, there are some duplicates"
   ]
  },
  {
   "cell_type": "code",
   "execution_count": null,
   "id": "2bf33092",
   "metadata": {
    "scrolled": true
   },
   "outputs": [],
   "source": [
    "ventes.isnull().sum().sort_values(ascending = False)/len(ventes)"
   ]
  },
  {
   "cell_type": "code",
   "execution_count": null,
   "id": "38329525",
   "metadata": {
    "scrolled": false
   },
   "outputs": [],
   "source": [
    "new_data = ventes.merge(clients, how='left', on=\"client_id\").merge(new_produits, how='left', on='id_prod')\n",
    "new_data"
   ]
  },
  {
   "cell_type": "code",
   "execution_count": null,
   "id": "145c63fd",
   "metadata": {
    "scrolled": false
   },
   "outputs": [],
   "source": [
    "new_data.info()\n",
    "# price et categ ont le même nbre de valeurs manquantes\n",
    "# des clients n'ont pas de prix associés, donc pas intéressants dans total vente"
   ]
  },
  {
   "cell_type": "code",
   "execution_count": null,
   "id": "e824e646",
   "metadata": {},
   "outputs": [],
   "source": [
    "# Pas de doublons ou de valeurs manquantes après le merge\n",
    "# Mais maintenant on peut associer des ventes avec des clients\n",
    "# et des ventes à des produits"
   ]
  },
  {
   "cell_type": "code",
   "execution_count": null,
   "id": "7b6ad7e0",
   "metadata": {
    "scrolled": false
   },
   "outputs": [],
   "source": [
    "# afficher les clients sans prix ou categ de produits\n",
    "new_data[(new_data['price'].isnull()) & (new_data['categ'].isnull())]"
   ]
  },
  {
   "cell_type": "code",
   "execution_count": null,
   "id": "fd921068",
   "metadata": {},
   "outputs": [],
   "source": [
    "# afficher les données 'test' et qui n'apportent pas d'info au final ...\n",
    "lignes_test = new_data[\n",
    "    (new_data['date'].str.contains('test_')) &\n",
    "    (new_data['id_prod']=='T_0') &  \n",
    "    (new_data['session_id']=='s_0')]\n",
    "lignes_test"
   ]
  },
  {
   "cell_type": "code",
   "execution_count": null,
   "id": "690b424d",
   "metadata": {
    "scrolled": true
   },
   "outputs": [],
   "source": [
    "new_data = new_data.drop(lignes_test.index).reset_index()\n",
    "new_data"
   ]
  },
  {
   "cell_type": "code",
   "execution_count": null,
   "id": "373d4ee9",
   "metadata": {},
   "outputs": [],
   "source": [
    "# Mission 2 -\n",
    "# analyse des données et trouver du sens pour comprendre les ventes\n",
    "# indicateurs de tendance centrale et de dispersion\n",
    "# analyse de concentration par courbe de Lorenz/indicateur de Gini\n",
    "# représentation graphique (histogramme, boxplot, séries temporelles)\n",
    "# analyses bivariées"
   ]
  },
  {
   "cell_type": "code",
   "execution_count": null,
   "id": "aab39f25",
   "metadata": {},
   "outputs": [],
   "source": [
    "# moyenne des prix\n",
    "moy = sum(new_data['price'])/len(new_data['price'])\n",
    "moy"
   ]
  },
  {
   "cell_type": "code",
   "execution_count": null,
   "id": "3ff6cf66",
   "metadata": {},
   "outputs": [],
   "source": [
    "# moyenne des prix sur les livres vendus\n",
    "s_moy = sum(data['price'])/len(data['price'])\n",
    "s_moy"
   ]
  },
  {
   "cell_type": "code",
   "execution_count": null,
   "id": "f29f04d8",
   "metadata": {},
   "outputs": [],
   "source": [
    "# médiane des prix\n",
    "me = statistics.median(produits['price'])\n",
    "me"
   ]
  },
  {
   "cell_type": "code",
   "execution_count": null,
   "id": "94339e33",
   "metadata": {},
   "outputs": [],
   "source": [
    "# médiane des prix sur les livres vendus\n",
    "s_me = statistics.median(data['price'])\n",
    "s_me"
   ]
  },
  {
   "cell_type": "code",
   "execution_count": null,
   "id": "4e8fd9dc",
   "metadata": {},
   "outputs": [],
   "source": [
    "# calcul variance\n",
    "var = sum((xi - moy) ** 2 for xi in produits['price'] / len(produits['price']))\n",
    "var"
   ]
  },
  {
   "cell_type": "code",
   "execution_count": null,
   "id": "b326da62",
   "metadata": {},
   "outputs": [],
   "source": [
    "# calcul écart-type\n",
    "var_res = var ** (0.5)\n",
    "var_res"
   ]
  },
  {
   "cell_type": "code",
   "execution_count": null,
   "id": "44951675",
   "metadata": {},
   "outputs": [],
   "source": [
    "# Boxplot sur les prix par rapport aux ventes réalisées\n",
    "data[['price']].boxplot()"
   ]
  },
  {
   "cell_type": "code",
   "execution_count": null,
   "id": "aaba69a7",
   "metadata": {},
   "outputs": [],
   "source": [
    "# Histogramme de la répartition des prix des différents livres\n",
    "histogram = new_produits['price'].plot.hist()\n",
    "plt.show()"
   ]
  },
  {
   "cell_type": "code",
   "execution_count": null,
   "id": "c6e5a91d",
   "metadata": {},
   "outputs": [],
   "source": [
    "# Histogramme de la répartition des clients par âge\n",
    "histogr = clients['birth'].plot.hist()\n",
    "\n",
    "plt.show()"
   ]
  },
  {
   "cell_type": "code",
   "execution_count": null,
   "id": "c535358b",
   "metadata": {},
   "outputs": [],
   "source": [
    "# Séries temporelles\n",
    "df = pd.read_csv('clients.csv', parse_dates = ['birth'], index_col = ['birth'])\n",
    "df"
   ]
  },
  {
   "cell_type": "code",
   "execution_count": null,
   "id": "c30a6500",
   "metadata": {},
   "outputs": [],
   "source": []
  }
 ],
 "metadata": {
  "kernelspec": {
   "display_name": "Python 3 (ipykernel)",
   "language": "python",
   "name": "python3"
  },
  "language_info": {
   "codemirror_mode": {
    "name": "ipython",
    "version": 3
   },
   "file_extension": ".py",
   "mimetype": "text/x-python",
   "name": "python",
   "nbconvert_exporter": "python",
   "pygments_lexer": "ipython3",
   "version": "3.9.12"
  }
 },
 "nbformat": 4,
 "nbformat_minor": 5
}
