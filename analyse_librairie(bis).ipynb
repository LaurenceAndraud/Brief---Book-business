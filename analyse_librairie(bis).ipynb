{
 "cells": [
  {
   "cell_type": "code",
   "execution_count": 5,
   "id": "d0c298bd",
   "metadata": {},
   "outputs": [],
   "source": [
    "import pandas as pd\n",
    "import numpy as np\n",
    "import math\n",
    "import matplotlib.pyplot as plt\n",
    "import statistics\n",
    "import seaborn as sns\n",
    "import sklearn as sk\n",
    "from sklearn import ensemble\n",
    "from datetime import datetime\n",
    "import scipy.stats as stats"
   ]
  },
  {
   "cell_type": "code",
   "execution_count": 6,
   "id": "e4ed735e",
   "metadata": {},
   "outputs": [],
   "source": [
    "# Mission 1 -\n",
    "# faire du nettoyage\n",
    "# voir pour faire des choix sur le traitement \n",
    "# des valeurs manquantes ou aberrantes"
   ]
  },
  {
   "cell_type": "code",
   "execution_count": 7,
   "id": "dc99c3b1",
   "metadata": {
    "scrolled": true
   },
   "outputs": [
    {
     "data": {
      "text/html": [
       "<div>\n",
       "<style scoped>\n",
       "    .dataframe tbody tr th:only-of-type {\n",
       "        vertical-align: middle;\n",
       "    }\n",
       "\n",
       "    .dataframe tbody tr th {\n",
       "        vertical-align: top;\n",
       "    }\n",
       "\n",
       "    .dataframe thead th {\n",
       "        text-align: right;\n",
       "    }\n",
       "</style>\n",
       "<table border=\"1\" class=\"dataframe\">\n",
       "  <thead>\n",
       "    <tr style=\"text-align: right;\">\n",
       "      <th></th>\n",
       "      <th>client_id</th>\n",
       "      <th>sex</th>\n",
       "      <th>birth</th>\n",
       "    </tr>\n",
       "  </thead>\n",
       "  <tbody>\n",
       "    <tr>\n",
       "      <th>0</th>\n",
       "      <td>c_4410</td>\n",
       "      <td>f</td>\n",
       "      <td>1967</td>\n",
       "    </tr>\n",
       "    <tr>\n",
       "      <th>1</th>\n",
       "      <td>c_7839</td>\n",
       "      <td>f</td>\n",
       "      <td>1975</td>\n",
       "    </tr>\n",
       "    <tr>\n",
       "      <th>2</th>\n",
       "      <td>c_1699</td>\n",
       "      <td>f</td>\n",
       "      <td>1984</td>\n",
       "    </tr>\n",
       "    <tr>\n",
       "      <th>3</th>\n",
       "      <td>c_5961</td>\n",
       "      <td>f</td>\n",
       "      <td>1962</td>\n",
       "    </tr>\n",
       "    <tr>\n",
       "      <th>4</th>\n",
       "      <td>c_5320</td>\n",
       "      <td>m</td>\n",
       "      <td>1943</td>\n",
       "    </tr>\n",
       "    <tr>\n",
       "      <th>...</th>\n",
       "      <td>...</td>\n",
       "      <td>...</td>\n",
       "      <td>...</td>\n",
       "    </tr>\n",
       "    <tr>\n",
       "      <th>8618</th>\n",
       "      <td>c_7920</td>\n",
       "      <td>m</td>\n",
       "      <td>1956</td>\n",
       "    </tr>\n",
       "    <tr>\n",
       "      <th>8619</th>\n",
       "      <td>c_7403</td>\n",
       "      <td>f</td>\n",
       "      <td>1970</td>\n",
       "    </tr>\n",
       "    <tr>\n",
       "      <th>8620</th>\n",
       "      <td>c_5119</td>\n",
       "      <td>m</td>\n",
       "      <td>1974</td>\n",
       "    </tr>\n",
       "    <tr>\n",
       "      <th>8621</th>\n",
       "      <td>c_5643</td>\n",
       "      <td>f</td>\n",
       "      <td>1968</td>\n",
       "    </tr>\n",
       "    <tr>\n",
       "      <th>8622</th>\n",
       "      <td>c_84</td>\n",
       "      <td>f</td>\n",
       "      <td>1982</td>\n",
       "    </tr>\n",
       "  </tbody>\n",
       "</table>\n",
       "<p>8623 rows × 3 columns</p>\n",
       "</div>"
      ],
      "text/plain": [
       "     client_id sex  birth\n",
       "0       c_4410   f   1967\n",
       "1       c_7839   f   1975\n",
       "2       c_1699   f   1984\n",
       "3       c_5961   f   1962\n",
       "4       c_5320   m   1943\n",
       "...        ...  ..    ...\n",
       "8618    c_7920   m   1956\n",
       "8619    c_7403   f   1970\n",
       "8620    c_5119   m   1974\n",
       "8621    c_5643   f   1968\n",
       "8622      c_84   f   1982\n",
       "\n",
       "[8623 rows x 3 columns]"
      ]
     },
     "execution_count": 7,
     "metadata": {},
     "output_type": "execute_result"
    }
   ],
   "source": [
    "clients = pd.read_csv(\"clients.csv\")\n",
    "clients"
   ]
  },
  {
   "cell_type": "code",
   "execution_count": 8,
   "id": "2b0a9cda",
   "metadata": {},
   "outputs": [
    {
     "name": "stdout",
     "output_type": "stream",
     "text": [
      "<class 'pandas.core.frame.DataFrame'>\n",
      "RangeIndex: 8623 entries, 0 to 8622\n",
      "Data columns (total 3 columns):\n",
      " #   Column     Non-Null Count  Dtype \n",
      "---  ------     --------------  ----- \n",
      " 0   client_id  8623 non-null   object\n",
      " 1   sex        8623 non-null   object\n",
      " 2   birth      8623 non-null   int64 \n",
      "dtypes: int64(1), object(2)\n",
      "memory usage: 202.2+ KB\n"
     ]
    }
   ],
   "source": [
    "clients.info()\n",
    "# this df seems clear with no null values (8623/8623)\n",
    "# like the others df, by the way"
   ]
  },
  {
   "cell_type": "code",
   "execution_count": 9,
   "id": "9ea30e01",
   "metadata": {},
   "outputs": [
    {
     "data": {
      "text/plain": [
       "8623"
      ]
     },
     "execution_count": 9,
     "metadata": {},
     "output_type": "execute_result"
    }
   ],
   "source": [
    "# check duplicates (here, nothing ...)\n",
    "clients = clients.drop_duplicates()\n",
    "len(clients)"
   ]
  },
  {
   "cell_type": "code",
   "execution_count": 10,
   "id": "84f6352f",
   "metadata": {},
   "outputs": [
    {
     "data": {
      "text/plain": [
       "client_id    0.0\n",
       "sex          0.0\n",
       "birth        0.0\n",
       "dtype: float64"
      ]
     },
     "execution_count": 10,
     "metadata": {},
     "output_type": "execute_result"
    }
   ],
   "source": [
    "clients.isnull().sum().sort_values(ascending = False)/len(clients)"
   ]
  },
  {
   "cell_type": "code",
   "execution_count": 11,
   "id": "84ea16f5",
   "metadata": {},
   "outputs": [
    {
     "data": {
      "text/html": [
       "<div>\n",
       "<style scoped>\n",
       "    .dataframe tbody tr th:only-of-type {\n",
       "        vertical-align: middle;\n",
       "    }\n",
       "\n",
       "    .dataframe tbody tr th {\n",
       "        vertical-align: top;\n",
       "    }\n",
       "\n",
       "    .dataframe thead th {\n",
       "        text-align: right;\n",
       "    }\n",
       "</style>\n",
       "<table border=\"1\" class=\"dataframe\">\n",
       "  <thead>\n",
       "    <tr style=\"text-align: right;\">\n",
       "      <th></th>\n",
       "      <th>id_prod</th>\n",
       "      <th>price</th>\n",
       "      <th>categ</th>\n",
       "    </tr>\n",
       "  </thead>\n",
       "  <tbody>\n",
       "    <tr>\n",
       "      <th>0</th>\n",
       "      <td>0_1421</td>\n",
       "      <td>19.99</td>\n",
       "      <td>0</td>\n",
       "    </tr>\n",
       "    <tr>\n",
       "      <th>1</th>\n",
       "      <td>0_1368</td>\n",
       "      <td>5.13</td>\n",
       "      <td>0</td>\n",
       "    </tr>\n",
       "    <tr>\n",
       "      <th>2</th>\n",
       "      <td>0_731</td>\n",
       "      <td>17.99</td>\n",
       "      <td>0</td>\n",
       "    </tr>\n",
       "    <tr>\n",
       "      <th>3</th>\n",
       "      <td>1_587</td>\n",
       "      <td>4.99</td>\n",
       "      <td>1</td>\n",
       "    </tr>\n",
       "    <tr>\n",
       "      <th>4</th>\n",
       "      <td>0_1507</td>\n",
       "      <td>3.99</td>\n",
       "      <td>0</td>\n",
       "    </tr>\n",
       "    <tr>\n",
       "      <th>...</th>\n",
       "      <td>...</td>\n",
       "      <td>...</td>\n",
       "      <td>...</td>\n",
       "    </tr>\n",
       "    <tr>\n",
       "      <th>3282</th>\n",
       "      <td>2_23</td>\n",
       "      <td>115.99</td>\n",
       "      <td>2</td>\n",
       "    </tr>\n",
       "    <tr>\n",
       "      <th>3283</th>\n",
       "      <td>0_146</td>\n",
       "      <td>17.14</td>\n",
       "      <td>0</td>\n",
       "    </tr>\n",
       "    <tr>\n",
       "      <th>3284</th>\n",
       "      <td>0_802</td>\n",
       "      <td>11.22</td>\n",
       "      <td>0</td>\n",
       "    </tr>\n",
       "    <tr>\n",
       "      <th>3285</th>\n",
       "      <td>1_140</td>\n",
       "      <td>38.56</td>\n",
       "      <td>1</td>\n",
       "    </tr>\n",
       "    <tr>\n",
       "      <th>3286</th>\n",
       "      <td>0_1920</td>\n",
       "      <td>25.16</td>\n",
       "      <td>0</td>\n",
       "    </tr>\n",
       "  </tbody>\n",
       "</table>\n",
       "<p>3287 rows × 3 columns</p>\n",
       "</div>"
      ],
      "text/plain": [
       "     id_prod   price  categ\n",
       "0     0_1421   19.99      0\n",
       "1     0_1368    5.13      0\n",
       "2      0_731   17.99      0\n",
       "3      1_587    4.99      1\n",
       "4     0_1507    3.99      0\n",
       "...      ...     ...    ...\n",
       "3282    2_23  115.99      2\n",
       "3283   0_146   17.14      0\n",
       "3284   0_802   11.22      0\n",
       "3285   1_140   38.56      1\n",
       "3286  0_1920   25.16      0\n",
       "\n",
       "[3287 rows x 3 columns]"
      ]
     },
     "execution_count": 11,
     "metadata": {},
     "output_type": "execute_result"
    }
   ],
   "source": [
    "produits = pd.read_csv(\"produits.csv\")\n",
    "produits"
   ]
  },
  {
   "cell_type": "code",
   "execution_count": 12,
   "id": "8414df71",
   "metadata": {},
   "outputs": [
    {
     "name": "stdout",
     "output_type": "stream",
     "text": [
      "<class 'pandas.core.frame.DataFrame'>\n",
      "RangeIndex: 3287 entries, 0 to 3286\n",
      "Data columns (total 3 columns):\n",
      " #   Column   Non-Null Count  Dtype  \n",
      "---  ------   --------------  -----  \n",
      " 0   id_prod  3287 non-null   object \n",
      " 1   price    3287 non-null   float64\n",
      " 2   categ    3287 non-null   int64  \n",
      "dtypes: float64(1), int64(1), object(1)\n",
      "memory usage: 77.2+ KB\n"
     ]
    }
   ],
   "source": [
    "produits.info()"
   ]
  },
  {
   "cell_type": "code",
   "execution_count": 13,
   "id": "1993bf9c",
   "metadata": {},
   "outputs": [
    {
     "data": {
      "text/plain": [
       "3287"
      ]
     },
     "execution_count": 13,
     "metadata": {},
     "output_type": "execute_result"
    }
   ],
   "source": [
    "produits = produits.drop_duplicates()\n",
    "len(produits)"
   ]
  },
  {
   "cell_type": "code",
   "execution_count": 14,
   "id": "2e1de066",
   "metadata": {},
   "outputs": [
    {
     "data": {
      "text/plain": [
       "id_prod    0.0\n",
       "price      0.0\n",
       "categ      0.0\n",
       "dtype: float64"
      ]
     },
     "execution_count": 14,
     "metadata": {},
     "output_type": "execute_result"
    }
   ],
   "source": [
    "produits.isnull().sum().sort_values(ascending = False)/len(produits)"
   ]
  },
  {
   "cell_type": "code",
   "execution_count": 15,
   "id": "1c522de4",
   "metadata": {},
   "outputs": [
    {
     "data": {
      "text/plain": [
       "array([19.99,  5.13, 17.99, ..., 11.22, 38.56, 25.16])"
      ]
     },
     "execution_count": 15,
     "metadata": {},
     "output_type": "execute_result"
    }
   ],
   "source": [
    "produits['price'].values"
   ]
  },
  {
   "cell_type": "code",
   "execution_count": 16,
   "id": "0c739570",
   "metadata": {},
   "outputs": [
    {
     "data": {
      "text/plain": [
       "<AxesSubplot:>"
      ]
     },
     "execution_count": 16,
     "metadata": {},
     "output_type": "execute_result"
    },
    {
     "data": {
      "image/png": "[encoded data removed]",
      "text/plain": [
       "<Figure size 432x288 with 1 Axes>"
      ]
     },
     "metadata": {
      "needs_background": "light"
     },
     "output_type": "display_data"
    }
   ],
   "source": [
    "produits[['price']].boxplot()"
   ]
  },
  {
   "cell_type": "code",
   "execution_count": 17,
   "id": "00fa22e8",
   "metadata": {},
   "outputs": [
    {
     "data": {
      "text/plain": [
       "-1.0"
      ]
     },
     "execution_count": 17,
     "metadata": {},
     "output_type": "execute_result"
    }
   ],
   "source": [
    "produits['price'].min()"
   ]
  },
  {
   "cell_type": "code",
   "execution_count": 18,
   "id": "646a2837",
   "metadata": {},
   "outputs": [
    {
     "data": {
      "text/plain": [
       "300.0"
      ]
     },
     "execution_count": 18,
     "metadata": {},
     "output_type": "execute_result"
    }
   ],
   "source": [
    "produits['price'].max()"
   ]
  },
  {
   "cell_type": "code",
   "execution_count": 19,
   "id": "30a98abc",
   "metadata": {},
   "outputs": [
    {
     "data": {
      "text/html": [
       "<div>\n",
       "<style scoped>\n",
       "    .dataframe tbody tr th:only-of-type {\n",
       "        vertical-align: middle;\n",
       "    }\n",
       "\n",
       "    .dataframe tbody tr th {\n",
       "        vertical-align: top;\n",
       "    }\n",
       "\n",
       "    .dataframe thead th {\n",
       "        text-align: right;\n",
       "    }\n",
       "</style>\n",
       "<table border=\"1\" class=\"dataframe\">\n",
       "  <thead>\n",
       "    <tr style=\"text-align: right;\">\n",
       "      <th></th>\n",
       "      <th>id_prod</th>\n",
       "      <th>price</th>\n",
       "      <th>categ</th>\n",
       "    </tr>\n",
       "  </thead>\n",
       "  <tbody>\n",
       "    <tr>\n",
       "      <th>731</th>\n",
       "      <td>T_0</td>\n",
       "      <td>-1.0</td>\n",
       "      <td>0</td>\n",
       "    </tr>\n",
       "  </tbody>\n",
       "</table>\n",
       "</div>"
      ],
      "text/plain": [
       "    id_prod  price  categ\n",
       "731     T_0   -1.0      0"
      ]
     },
     "execution_count": 19,
     "metadata": {},
     "output_type": "execute_result"
    }
   ],
   "source": [
    "neg = produits[produits['price'].between(-1, 0)]\n",
    "neg\n",
    "# delete the values because a price can't be negative"
   ]
  },
  {
   "cell_type": "code",
   "execution_count": 20,
   "id": "f12bf489",
   "metadata": {},
   "outputs": [
    {
     "data": {
      "text/html": [
       "<div>\n",
       "<style scoped>\n",
       "    .dataframe tbody tr th:only-of-type {\n",
       "        vertical-align: middle;\n",
       "    }\n",
       "\n",
       "    .dataframe tbody tr th {\n",
       "        vertical-align: top;\n",
       "    }\n",
       "\n",
       "    .dataframe thead th {\n",
       "        text-align: right;\n",
       "    }\n",
       "</style>\n",
       "<table border=\"1\" class=\"dataframe\">\n",
       "  <thead>\n",
       "    <tr style=\"text-align: right;\">\n",
       "      <th></th>\n",
       "      <th>id_prod</th>\n",
       "      <th>price</th>\n",
       "      <th>categ</th>\n",
       "    </tr>\n",
       "  </thead>\n",
       "  <tbody>\n",
       "    <tr>\n",
       "      <th>0</th>\n",
       "      <td>0_1421</td>\n",
       "      <td>19.99</td>\n",
       "      <td>0</td>\n",
       "    </tr>\n",
       "    <tr>\n",
       "      <th>1</th>\n",
       "      <td>0_1368</td>\n",
       "      <td>5.13</td>\n",
       "      <td>0</td>\n",
       "    </tr>\n",
       "    <tr>\n",
       "      <th>2</th>\n",
       "      <td>0_731</td>\n",
       "      <td>17.99</td>\n",
       "      <td>0</td>\n",
       "    </tr>\n",
       "    <tr>\n",
       "      <th>3</th>\n",
       "      <td>1_587</td>\n",
       "      <td>4.99</td>\n",
       "      <td>1</td>\n",
       "    </tr>\n",
       "    <tr>\n",
       "      <th>4</th>\n",
       "      <td>0_1507</td>\n",
       "      <td>3.99</td>\n",
       "      <td>0</td>\n",
       "    </tr>\n",
       "    <tr>\n",
       "      <th>...</th>\n",
       "      <td>...</td>\n",
       "      <td>...</td>\n",
       "      <td>...</td>\n",
       "    </tr>\n",
       "    <tr>\n",
       "      <th>3282</th>\n",
       "      <td>2_23</td>\n",
       "      <td>115.99</td>\n",
       "      <td>2</td>\n",
       "    </tr>\n",
       "    <tr>\n",
       "      <th>3283</th>\n",
       "      <td>0_146</td>\n",
       "      <td>17.14</td>\n",
       "      <td>0</td>\n",
       "    </tr>\n",
       "    <tr>\n",
       "      <th>3284</th>\n",
       "      <td>0_802</td>\n",
       "      <td>11.22</td>\n",
       "      <td>0</td>\n",
       "    </tr>\n",
       "    <tr>\n",
       "      <th>3285</th>\n",
       "      <td>1_140</td>\n",
       "      <td>38.56</td>\n",
       "      <td>1</td>\n",
       "    </tr>\n",
       "    <tr>\n",
       "      <th>3286</th>\n",
       "      <td>0_1920</td>\n",
       "      <td>25.16</td>\n",
       "      <td>0</td>\n",
       "    </tr>\n",
       "  </tbody>\n",
       "</table>\n",
       "<p>3286 rows × 3 columns</p>\n",
       "</div>"
      ],
      "text/plain": [
       "     id_prod   price  categ\n",
       "0     0_1421   19.99      0\n",
       "1     0_1368    5.13      0\n",
       "2      0_731   17.99      0\n",
       "3      1_587    4.99      1\n",
       "4     0_1507    3.99      0\n",
       "...      ...     ...    ...\n",
       "3282    2_23  115.99      2\n",
       "3283   0_146   17.14      0\n",
       "3284   0_802   11.22      0\n",
       "3285   1_140   38.56      1\n",
       "3286  0_1920   25.16      0\n",
       "\n",
       "[3286 rows x 3 columns]"
      ]
     },
     "execution_count": 20,
     "metadata": {},
     "output_type": "execute_result"
    }
   ],
   "source": [
    "new_produits = produits.drop([produits.index[731]])\n",
    "new_produits"
   ]
  },
  {
   "cell_type": "code",
   "execution_count": 21,
   "id": "578ab9f7",
   "metadata": {},
   "outputs": [
    {
     "data": {
      "text/html": [
       "<div>\n",
       "<style scoped>\n",
       "    .dataframe tbody tr th:only-of-type {\n",
       "        vertical-align: middle;\n",
       "    }\n",
       "\n",
       "    .dataframe tbody tr th {\n",
       "        vertical-align: top;\n",
       "    }\n",
       "\n",
       "    .dataframe thead th {\n",
       "        text-align: right;\n",
       "    }\n",
       "</style>\n",
       "<table border=\"1\" class=\"dataframe\">\n",
       "  <thead>\n",
       "    <tr style=\"text-align: right;\">\n",
       "      <th></th>\n",
       "      <th>id_prod</th>\n",
       "      <th>date</th>\n",
       "      <th>session_id</th>\n",
       "      <th>client_id</th>\n",
       "    </tr>\n",
       "  </thead>\n",
       "  <tbody>\n",
       "    <tr>\n",
       "      <th>0</th>\n",
       "      <td>0_1483</td>\n",
       "      <td>2021-04-10 18:37:28.723910</td>\n",
       "      <td>s_18746</td>\n",
       "      <td>c_4450</td>\n",
       "    </tr>\n",
       "    <tr>\n",
       "      <th>1</th>\n",
       "      <td>2_226</td>\n",
       "      <td>2022-02-03 01:55:53.276402</td>\n",
       "      <td>s_159142</td>\n",
       "      <td>c_277</td>\n",
       "    </tr>\n",
       "    <tr>\n",
       "      <th>2</th>\n",
       "      <td>1_374</td>\n",
       "      <td>2021-09-23 15:13:46.938559</td>\n",
       "      <td>s_94290</td>\n",
       "      <td>c_4270</td>\n",
       "    </tr>\n",
       "    <tr>\n",
       "      <th>3</th>\n",
       "      <td>0_2186</td>\n",
       "      <td>2021-10-17 03:27:18.783634</td>\n",
       "      <td>s_105936</td>\n",
       "      <td>c_4597</td>\n",
       "    </tr>\n",
       "    <tr>\n",
       "      <th>4</th>\n",
       "      <td>0_1351</td>\n",
       "      <td>2021-07-17 20:34:25.800563</td>\n",
       "      <td>s_63642</td>\n",
       "      <td>c_1242</td>\n",
       "    </tr>\n",
       "    <tr>\n",
       "      <th>...</th>\n",
       "      <td>...</td>\n",
       "      <td>...</td>\n",
       "      <td>...</td>\n",
       "      <td>...</td>\n",
       "    </tr>\n",
       "    <tr>\n",
       "      <th>337011</th>\n",
       "      <td>1_671</td>\n",
       "      <td>2021-05-28 12:35:46.214839</td>\n",
       "      <td>s_40720</td>\n",
       "      <td>c_3454</td>\n",
       "    </tr>\n",
       "    <tr>\n",
       "      <th>337012</th>\n",
       "      <td>0_759</td>\n",
       "      <td>2021-06-19 00:19:23.917703</td>\n",
       "      <td>s_50568</td>\n",
       "      <td>c_6268</td>\n",
       "    </tr>\n",
       "    <tr>\n",
       "      <th>337013</th>\n",
       "      <td>0_1256</td>\n",
       "      <td>2021-03-16 17:31:59.442007</td>\n",
       "      <td>s_7219</td>\n",
       "      <td>c_4137</td>\n",
       "    </tr>\n",
       "    <tr>\n",
       "      <th>337014</th>\n",
       "      <td>2_227</td>\n",
       "      <td>2021-10-30 16:50:15.997750</td>\n",
       "      <td>s_112349</td>\n",
       "      <td>c_5</td>\n",
       "    </tr>\n",
       "    <tr>\n",
       "      <th>337015</th>\n",
       "      <td>0_1417</td>\n",
       "      <td>2021-06-26 14:38:19.732946</td>\n",
       "      <td>s_54117</td>\n",
       "      <td>c_6714</td>\n",
       "    </tr>\n",
       "  </tbody>\n",
       "</table>\n",
       "<p>337016 rows × 4 columns</p>\n",
       "</div>"
      ],
      "text/plain": [
       "       id_prod                        date session_id client_id\n",
       "0       0_1483  2021-04-10 18:37:28.723910    s_18746    c_4450\n",
       "1        2_226  2022-02-03 01:55:53.276402   s_159142     c_277\n",
       "2        1_374  2021-09-23 15:13:46.938559    s_94290    c_4270\n",
       "3       0_2186  2021-10-17 03:27:18.783634   s_105936    c_4597\n",
       "4       0_1351  2021-07-17 20:34:25.800563    s_63642    c_1242\n",
       "...        ...                         ...        ...       ...\n",
       "337011   1_671  2021-05-28 12:35:46.214839    s_40720    c_3454\n",
       "337012   0_759  2021-06-19 00:19:23.917703    s_50568    c_6268\n",
       "337013  0_1256  2021-03-16 17:31:59.442007     s_7219    c_4137\n",
       "337014   2_227  2021-10-30 16:50:15.997750   s_112349       c_5\n",
       "337015  0_1417  2021-06-26 14:38:19.732946    s_54117    c_6714\n",
       "\n",
       "[337016 rows x 4 columns]"
      ]
     },
     "execution_count": 21,
     "metadata": {},
     "output_type": "execute_result"
    }
   ],
   "source": [
    "ventes = pd.read_csv(\"ventes.csv\")\n",
    "ventes"
   ]
  },
  {
   "cell_type": "code",
   "execution_count": 22,
   "id": "079bb476",
   "metadata": {},
   "outputs": [
    {
     "name": "stdout",
     "output_type": "stream",
     "text": [
      "<class 'pandas.core.frame.DataFrame'>\n",
      "RangeIndex: 337016 entries, 0 to 337015\n",
      "Data columns (total 4 columns):\n",
      " #   Column      Non-Null Count   Dtype \n",
      "---  ------      --------------   ----- \n",
      " 0   id_prod     337016 non-null  object\n",
      " 1   date        337016 non-null  object\n",
      " 2   session_id  337016 non-null  object\n",
      " 3   client_id   337016 non-null  object\n",
      "dtypes: object(4)\n",
      "memory usage: 10.3+ MB\n"
     ]
    }
   ],
   "source": [
    "ventes.info()"
   ]
  },
  {
   "cell_type": "code",
   "execution_count": 23,
   "id": "e2906acf",
   "metadata": {},
   "outputs": [
    {
     "data": {
      "text/plain": [
       "336890"
      ]
     },
     "execution_count": 23,
     "metadata": {},
     "output_type": "execute_result"
    }
   ],
   "source": [
    "ventes = ventes.drop_duplicates()\n",
    "len(ventes)\n",
    "# here, there are some duplicates"
   ]
  },
  {
   "cell_type": "code",
   "execution_count": 24,
   "id": "86e5d393",
   "metadata": {},
   "outputs": [
    {
     "data": {
      "text/plain": [
       "id_prod       0.0\n",
       "date          0.0\n",
       "session_id    0.0\n",
       "client_id     0.0\n",
       "dtype: float64"
      ]
     },
     "execution_count": 24,
     "metadata": {},
     "output_type": "execute_result"
    }
   ],
   "source": [
    "ventes.isnull().sum().sort_values(ascending = False)/len(ventes)"
   ]
  },
  {
   "cell_type": "code",
   "execution_count": 25,
   "id": "439b761e",
   "metadata": {},
   "outputs": [
    {
     "data": {
      "text/html": [
       "<div>\n",
       "<style scoped>\n",
       "    .dataframe tbody tr th:only-of-type {\n",
       "        vertical-align: middle;\n",
       "    }\n",
       "\n",
       "    .dataframe tbody tr th {\n",
       "        vertical-align: top;\n",
       "    }\n",
       "\n",
       "    .dataframe thead th {\n",
       "        text-align: right;\n",
       "    }\n",
       "</style>\n",
       "<table border=\"1\" class=\"dataframe\">\n",
       "  <thead>\n",
       "    <tr style=\"text-align: right;\">\n",
       "      <th></th>\n",
       "      <th>id_prod</th>\n",
       "      <th>date</th>\n",
       "      <th>session_id</th>\n",
       "      <th>client_id</th>\n",
       "      <th>sex</th>\n",
       "      <th>birth</th>\n",
       "      <th>price</th>\n",
       "      <th>categ</th>\n",
       "    </tr>\n",
       "  </thead>\n",
       "  <tbody>\n",
       "    <tr>\n",
       "      <th>0</th>\n",
       "      <td>0_1483</td>\n",
       "      <td>2021-04-10 18:37:28.723910</td>\n",
       "      <td>s_18746</td>\n",
       "      <td>c_4450</td>\n",
       "      <td>f</td>\n",
       "      <td>1977</td>\n",
       "      <td>4.99</td>\n",
       "      <td>0.0</td>\n",
       "    </tr>\n",
       "    <tr>\n",
       "      <th>1</th>\n",
       "      <td>2_226</td>\n",
       "      <td>2022-02-03 01:55:53.276402</td>\n",
       "      <td>s_159142</td>\n",
       "      <td>c_277</td>\n",
       "      <td>f</td>\n",
       "      <td>2000</td>\n",
       "      <td>65.75</td>\n",
       "      <td>2.0</td>\n",
       "    </tr>\n",
       "    <tr>\n",
       "      <th>2</th>\n",
       "      <td>1_374</td>\n",
       "      <td>2021-09-23 15:13:46.938559</td>\n",
       "      <td>s_94290</td>\n",
       "      <td>c_4270</td>\n",
       "      <td>f</td>\n",
       "      <td>1979</td>\n",
       "      <td>10.71</td>\n",
       "      <td>1.0</td>\n",
       "    </tr>\n",
       "    <tr>\n",
       "      <th>3</th>\n",
       "      <td>0_2186</td>\n",
       "      <td>2021-10-17 03:27:18.783634</td>\n",
       "      <td>s_105936</td>\n",
       "      <td>c_4597</td>\n",
       "      <td>m</td>\n",
       "      <td>1963</td>\n",
       "      <td>4.20</td>\n",
       "      <td>0.0</td>\n",
       "    </tr>\n",
       "    <tr>\n",
       "      <th>4</th>\n",
       "      <td>0_1351</td>\n",
       "      <td>2021-07-17 20:34:25.800563</td>\n",
       "      <td>s_63642</td>\n",
       "      <td>c_1242</td>\n",
       "      <td>f</td>\n",
       "      <td>1980</td>\n",
       "      <td>8.99</td>\n",
       "      <td>0.0</td>\n",
       "    </tr>\n",
       "    <tr>\n",
       "      <th>...</th>\n",
       "      <td>...</td>\n",
       "      <td>...</td>\n",
       "      <td>...</td>\n",
       "      <td>...</td>\n",
       "      <td>...</td>\n",
       "      <td>...</td>\n",
       "      <td>...</td>\n",
       "      <td>...</td>\n",
       "    </tr>\n",
       "    <tr>\n",
       "      <th>336885</th>\n",
       "      <td>1_671</td>\n",
       "      <td>2021-05-28 12:35:46.214839</td>\n",
       "      <td>s_40720</td>\n",
       "      <td>c_3454</td>\n",
       "      <td>m</td>\n",
       "      <td>1969</td>\n",
       "      <td>31.99</td>\n",
       "      <td>1.0</td>\n",
       "    </tr>\n",
       "    <tr>\n",
       "      <th>336886</th>\n",
       "      <td>0_759</td>\n",
       "      <td>2021-06-19 00:19:23.917703</td>\n",
       "      <td>s_50568</td>\n",
       "      <td>c_6268</td>\n",
       "      <td>m</td>\n",
       "      <td>1991</td>\n",
       "      <td>22.99</td>\n",
       "      <td>0.0</td>\n",
       "    </tr>\n",
       "    <tr>\n",
       "      <th>336887</th>\n",
       "      <td>0_1256</td>\n",
       "      <td>2021-03-16 17:31:59.442007</td>\n",
       "      <td>s_7219</td>\n",
       "      <td>c_4137</td>\n",
       "      <td>f</td>\n",
       "      <td>1968</td>\n",
       "      <td>11.03</td>\n",
       "      <td>0.0</td>\n",
       "    </tr>\n",
       "    <tr>\n",
       "      <th>336888</th>\n",
       "      <td>2_227</td>\n",
       "      <td>2021-10-30 16:50:15.997750</td>\n",
       "      <td>s_112349</td>\n",
       "      <td>c_5</td>\n",
       "      <td>f</td>\n",
       "      <td>1994</td>\n",
       "      <td>50.99</td>\n",
       "      <td>2.0</td>\n",
       "    </tr>\n",
       "    <tr>\n",
       "      <th>336889</th>\n",
       "      <td>0_1417</td>\n",
       "      <td>2021-06-26 14:38:19.732946</td>\n",
       "      <td>s_54117</td>\n",
       "      <td>c_6714</td>\n",
       "      <td>f</td>\n",
       "      <td>1968</td>\n",
       "      <td>17.99</td>\n",
       "      <td>0.0</td>\n",
       "    </tr>\n",
       "  </tbody>\n",
       "</table>\n",
       "<p>336890 rows × 8 columns</p>\n",
       "</div>"
      ],
      "text/plain": [
       "       id_prod                        date session_id client_id sex  birth  \\\n",
       "0       0_1483  2021-04-10 18:37:28.723910    s_18746    c_4450   f   1977   \n",
       "1        2_226  2022-02-03 01:55:53.276402   s_159142     c_277   f   2000   \n",
       "2        1_374  2021-09-23 15:13:46.938559    s_94290    c_4270   f   1979   \n",
       "3       0_2186  2021-10-17 03:27:18.783634   s_105936    c_4597   m   1963   \n",
       "4       0_1351  2021-07-17 20:34:25.800563    s_63642    c_1242   f   1980   \n",
       "...        ...                         ...        ...       ...  ..    ...   \n",
       "336885   1_671  2021-05-28 12:35:46.214839    s_40720    c_3454   m   1969   \n",
       "336886   0_759  2021-06-19 00:19:23.917703    s_50568    c_6268   m   1991   \n",
       "336887  0_1256  2021-03-16 17:31:59.442007     s_7219    c_4137   f   1968   \n",
       "336888   2_227  2021-10-30 16:50:15.997750   s_112349       c_5   f   1994   \n",
       "336889  0_1417  2021-06-26 14:38:19.732946    s_54117    c_6714   f   1968   \n",
       "\n",
       "        price  categ  \n",
       "0        4.99    0.0  \n",
       "1       65.75    2.0  \n",
       "2       10.71    1.0  \n",
       "3        4.20    0.0  \n",
       "4        8.99    0.0  \n",
       "...       ...    ...  \n",
       "336885  31.99    1.0  \n",
       "336886  22.99    0.0  \n",
       "336887  11.03    0.0  \n",
       "336888  50.99    2.0  \n",
       "336889  17.99    0.0  \n",
       "\n",
       "[336890 rows x 8 columns]"
      ]
     },
     "execution_count": 25,
     "metadata": {},
     "output_type": "execute_result"
    }
   ],
   "source": [
    "new_data = ventes.merge(clients, how='left', on=\"client_id\").merge(new_produits, how='left', on='id_prod')\n",
    "new_data"
   ]
  },
  {
   "cell_type": "code",
   "execution_count": 26,
   "id": "be3fd048",
   "metadata": {},
   "outputs": [
    {
     "name": "stdout",
     "output_type": "stream",
     "text": [
      "<class 'pandas.core.frame.DataFrame'>\n",
      "Int64Index: 336890 entries, 0 to 336889\n",
      "Data columns (total 8 columns):\n",
      " #   Column      Non-Null Count   Dtype  \n",
      "---  ------      --------------   -----  \n",
      " 0   id_prod     336890 non-null  object \n",
      " 1   date        336890 non-null  object \n",
      " 2   session_id  336890 non-null  object \n",
      " 3   client_id   336890 non-null  object \n",
      " 4   sex         336890 non-null  object \n",
      " 5   birth       336890 non-null  int64  \n",
      " 6   price       336713 non-null  float64\n",
      " 7   categ       336713 non-null  float64\n",
      "dtypes: float64(2), int64(1), object(5)\n",
      "memory usage: 23.1+ MB\n"
     ]
    }
   ],
   "source": [
    "new_data.info()\n",
    "# price et categ ont le même nbre de valeurs manquantes\n",
    "# des clients n'ont pas de prix associés, donc pas intéressants dans total vente"
   ]
  },
  {
   "cell_type": "code",
   "execution_count": 27,
   "id": "f291be18",
   "metadata": {},
   "outputs": [
    {
     "data": {
      "text/plain": [
       "336890"
      ]
     },
     "execution_count": 27,
     "metadata": {},
     "output_type": "execute_result"
    }
   ],
   "source": [
    "new_data = new_data.drop_duplicates()\n",
    "len(new_data)"
   ]
  },
  {
   "cell_type": "code",
   "execution_count": 28,
   "id": "ff5c0348",
   "metadata": {},
   "outputs": [],
   "source": [
    "# Pas de doublons ou de valeurs manquantes après le merge\n",
    "# Mais maintenant on peut associer des ventes avec des clients\n",
    "# et des ventes à des produits grâce au merge"
   ]
  },
  {
   "cell_type": "code",
   "execution_count": 29,
   "id": "faf4b7b4",
   "metadata": {},
   "outputs": [
    {
     "data": {
      "text/html": [
       "<div>\n",
       "<style scoped>\n",
       "    .dataframe tbody tr th:only-of-type {\n",
       "        vertical-align: middle;\n",
       "    }\n",
       "\n",
       "    .dataframe tbody tr th {\n",
       "        vertical-align: top;\n",
       "    }\n",
       "\n",
       "    .dataframe thead th {\n",
       "        text-align: right;\n",
       "    }\n",
       "</style>\n",
       "<table border=\"1\" class=\"dataframe\">\n",
       "  <thead>\n",
       "    <tr style=\"text-align: right;\">\n",
       "      <th></th>\n",
       "      <th>id_prod</th>\n",
       "      <th>date</th>\n",
       "      <th>session_id</th>\n",
       "      <th>client_id</th>\n",
       "      <th>sex</th>\n",
       "      <th>birth</th>\n",
       "      <th>price</th>\n",
       "      <th>categ</th>\n",
       "    </tr>\n",
       "  </thead>\n",
       "  <tbody>\n",
       "    <tr>\n",
       "      <th>1431</th>\n",
       "      <td>T_0</td>\n",
       "      <td>test_2021-03-01 02:30:02.237420</td>\n",
       "      <td>s_0</td>\n",
       "      <td>ct_1</td>\n",
       "      <td>m</td>\n",
       "      <td>2001</td>\n",
       "      <td>NaN</td>\n",
       "      <td>NaN</td>\n",
       "    </tr>\n",
       "    <tr>\n",
       "      <th>2365</th>\n",
       "      <td>T_0</td>\n",
       "      <td>test_2021-03-01 02:30:02.237446</td>\n",
       "      <td>s_0</td>\n",
       "      <td>ct_1</td>\n",
       "      <td>m</td>\n",
       "      <td>2001</td>\n",
       "      <td>NaN</td>\n",
       "      <td>NaN</td>\n",
       "    </tr>\n",
       "    <tr>\n",
       "      <th>2895</th>\n",
       "      <td>T_0</td>\n",
       "      <td>test_2021-03-01 02:30:02.237414</td>\n",
       "      <td>s_0</td>\n",
       "      <td>ct_1</td>\n",
       "      <td>m</td>\n",
       "      <td>2001</td>\n",
       "      <td>NaN</td>\n",
       "      <td>NaN</td>\n",
       "    </tr>\n",
       "    <tr>\n",
       "      <th>5955</th>\n",
       "      <td>T_0</td>\n",
       "      <td>test_2021-03-01 02:30:02.237441</td>\n",
       "      <td>s_0</td>\n",
       "      <td>ct_0</td>\n",
       "      <td>f</td>\n",
       "      <td>2001</td>\n",
       "      <td>NaN</td>\n",
       "      <td>NaN</td>\n",
       "    </tr>\n",
       "    <tr>\n",
       "      <th>6235</th>\n",
       "      <td>0_2245</td>\n",
       "      <td>2021-06-17 03:03:12.668129</td>\n",
       "      <td>s_49705</td>\n",
       "      <td>c_1533</td>\n",
       "      <td>m</td>\n",
       "      <td>1972</td>\n",
       "      <td>NaN</td>\n",
       "      <td>NaN</td>\n",
       "    </tr>\n",
       "    <tr>\n",
       "      <th>...</th>\n",
       "      <td>...</td>\n",
       "      <td>...</td>\n",
       "      <td>...</td>\n",
       "      <td>...</td>\n",
       "      <td>...</td>\n",
       "      <td>...</td>\n",
       "      <td>...</td>\n",
       "      <td>...</td>\n",
       "    </tr>\n",
       "    <tr>\n",
       "      <th>322597</th>\n",
       "      <td>0_2245</td>\n",
       "      <td>2021-04-06 19:59:19.462288</td>\n",
       "      <td>s_16936</td>\n",
       "      <td>c_4167</td>\n",
       "      <td>f</td>\n",
       "      <td>1979</td>\n",
       "      <td>NaN</td>\n",
       "      <td>NaN</td>\n",
       "    </tr>\n",
       "    <tr>\n",
       "      <th>329300</th>\n",
       "      <td>0_2245</td>\n",
       "      <td>2021-03-30 23:29:02.347672</td>\n",
       "      <td>s_13738</td>\n",
       "      <td>c_7790</td>\n",
       "      <td>f</td>\n",
       "      <td>1983</td>\n",
       "      <td>NaN</td>\n",
       "      <td>NaN</td>\n",
       "    </tr>\n",
       "    <tr>\n",
       "      <th>330371</th>\n",
       "      <td>0_2245</td>\n",
       "      <td>2021-12-03 14:14:40.444177</td>\n",
       "      <td>s_128815</td>\n",
       "      <td>c_6189</td>\n",
       "      <td>f</td>\n",
       "      <td>1984</td>\n",
       "      <td>NaN</td>\n",
       "      <td>NaN</td>\n",
       "    </tr>\n",
       "    <tr>\n",
       "      <th>335405</th>\n",
       "      <td>0_2245</td>\n",
       "      <td>2021-04-27 18:58:47.703374</td>\n",
       "      <td>s_26624</td>\n",
       "      <td>c_1595</td>\n",
       "      <td>f</td>\n",
       "      <td>1973</td>\n",
       "      <td>NaN</td>\n",
       "      <td>NaN</td>\n",
       "    </tr>\n",
       "    <tr>\n",
       "      <th>336094</th>\n",
       "      <td>0_2245</td>\n",
       "      <td>2021-05-01 03:35:03.146305</td>\n",
       "      <td>s_28235</td>\n",
       "      <td>c_5714</td>\n",
       "      <td>f</td>\n",
       "      <td>1972</td>\n",
       "      <td>NaN</td>\n",
       "      <td>NaN</td>\n",
       "    </tr>\n",
       "  </tbody>\n",
       "</table>\n",
       "<p>177 rows × 8 columns</p>\n",
       "</div>"
      ],
      "text/plain": [
       "       id_prod                             date session_id client_id sex  \\\n",
       "1431       T_0  test_2021-03-01 02:30:02.237420        s_0      ct_1   m   \n",
       "2365       T_0  test_2021-03-01 02:30:02.237446        s_0      ct_1   m   \n",
       "2895       T_0  test_2021-03-01 02:30:02.237414        s_0      ct_1   m   \n",
       "5955       T_0  test_2021-03-01 02:30:02.237441        s_0      ct_0   f   \n",
       "6235    0_2245       2021-06-17 03:03:12.668129    s_49705    c_1533   m   \n",
       "...        ...                              ...        ...       ...  ..   \n",
       "322597  0_2245       2021-04-06 19:59:19.462288    s_16936    c_4167   f   \n",
       "329300  0_2245       2021-03-30 23:29:02.347672    s_13738    c_7790   f   \n",
       "330371  0_2245       2021-12-03 14:14:40.444177   s_128815    c_6189   f   \n",
       "335405  0_2245       2021-04-27 18:58:47.703374    s_26624    c_1595   f   \n",
       "336094  0_2245       2021-05-01 03:35:03.146305    s_28235    c_5714   f   \n",
       "\n",
       "        birth  price  categ  \n",
       "1431     2001    NaN    NaN  \n",
       "2365     2001    NaN    NaN  \n",
       "2895     2001    NaN    NaN  \n",
       "5955     2001    NaN    NaN  \n",
       "6235     1972    NaN    NaN  \n",
       "...       ...    ...    ...  \n",
       "322597   1979    NaN    NaN  \n",
       "329300   1983    NaN    NaN  \n",
       "330371   1984    NaN    NaN  \n",
       "335405   1973    NaN    NaN  \n",
       "336094   1972    NaN    NaN  \n",
       "\n",
       "[177 rows x 8 columns]"
      ]
     },
     "execution_count": 29,
     "metadata": {},
     "output_type": "execute_result"
    }
   ],
   "source": [
    "# afficher les clients sans prix ou categ de produits\n",
    "new_data[(new_data['price'].isnull()) & (new_data['categ'].isnull())]"
   ]
  },
  {
   "cell_type": "code",
   "execution_count": 30,
   "id": "13e65c55",
   "metadata": {},
   "outputs": [
    {
     "data": {
      "text/html": [
       "<div>\n",
       "<style scoped>\n",
       "    .dataframe tbody tr th:only-of-type {\n",
       "        vertical-align: middle;\n",
       "    }\n",
       "\n",
       "    .dataframe tbody tr th {\n",
       "        vertical-align: top;\n",
       "    }\n",
       "\n",
       "    .dataframe thead th {\n",
       "        text-align: right;\n",
       "    }\n",
       "</style>\n",
       "<table border=\"1\" class=\"dataframe\">\n",
       "  <thead>\n",
       "    <tr style=\"text-align: right;\">\n",
       "      <th></th>\n",
       "      <th>id_prod</th>\n",
       "      <th>date</th>\n",
       "      <th>session_id</th>\n",
       "      <th>client_id</th>\n",
       "      <th>sex</th>\n",
       "      <th>birth</th>\n",
       "      <th>price</th>\n",
       "      <th>categ</th>\n",
       "    </tr>\n",
       "  </thead>\n",
       "  <tbody>\n",
       "    <tr>\n",
       "      <th>1431</th>\n",
       "      <td>T_0</td>\n",
       "      <td>test_2021-03-01 02:30:02.237420</td>\n",
       "      <td>s_0</td>\n",
       "      <td>ct_1</td>\n",
       "      <td>m</td>\n",
       "      <td>2001</td>\n",
       "      <td>NaN</td>\n",
       "      <td>NaN</td>\n",
       "    </tr>\n",
       "    <tr>\n",
       "      <th>2365</th>\n",
       "      <td>T_0</td>\n",
       "      <td>test_2021-03-01 02:30:02.237446</td>\n",
       "      <td>s_0</td>\n",
       "      <td>ct_1</td>\n",
       "      <td>m</td>\n",
       "      <td>2001</td>\n",
       "      <td>NaN</td>\n",
       "      <td>NaN</td>\n",
       "    </tr>\n",
       "    <tr>\n",
       "      <th>2895</th>\n",
       "      <td>T_0</td>\n",
       "      <td>test_2021-03-01 02:30:02.237414</td>\n",
       "      <td>s_0</td>\n",
       "      <td>ct_1</td>\n",
       "      <td>m</td>\n",
       "      <td>2001</td>\n",
       "      <td>NaN</td>\n",
       "      <td>NaN</td>\n",
       "    </tr>\n",
       "    <tr>\n",
       "      <th>5955</th>\n",
       "      <td>T_0</td>\n",
       "      <td>test_2021-03-01 02:30:02.237441</td>\n",
       "      <td>s_0</td>\n",
       "      <td>ct_0</td>\n",
       "      <td>f</td>\n",
       "      <td>2001</td>\n",
       "      <td>NaN</td>\n",
       "      <td>NaN</td>\n",
       "    </tr>\n",
       "    <tr>\n",
       "      <th>7283</th>\n",
       "      <td>T_0</td>\n",
       "      <td>test_2021-03-01 02:30:02.237434</td>\n",
       "      <td>s_0</td>\n",
       "      <td>ct_1</td>\n",
       "      <td>m</td>\n",
       "      <td>2001</td>\n",
       "      <td>NaN</td>\n",
       "      <td>NaN</td>\n",
       "    </tr>\n",
       "    <tr>\n",
       "      <th>...</th>\n",
       "      <td>...</td>\n",
       "      <td>...</td>\n",
       "      <td>...</td>\n",
       "      <td>...</td>\n",
       "      <td>...</td>\n",
       "      <td>...</td>\n",
       "      <td>...</td>\n",
       "      <td>...</td>\n",
       "    </tr>\n",
       "    <tr>\n",
       "      <th>264229</th>\n",
       "      <td>T_0</td>\n",
       "      <td>test_2021-03-01 02:30:02.237416</td>\n",
       "      <td>s_0</td>\n",
       "      <td>ct_1</td>\n",
       "      <td>m</td>\n",
       "      <td>2001</td>\n",
       "      <td>NaN</td>\n",
       "      <td>NaN</td>\n",
       "    </tr>\n",
       "    <tr>\n",
       "      <th>288815</th>\n",
       "      <td>T_0</td>\n",
       "      <td>test_2021-03-01 02:30:02.237415</td>\n",
       "      <td>s_0</td>\n",
       "      <td>ct_1</td>\n",
       "      <td>m</td>\n",
       "      <td>2001</td>\n",
       "      <td>NaN</td>\n",
       "      <td>NaN</td>\n",
       "    </tr>\n",
       "    <tr>\n",
       "      <th>293003</th>\n",
       "      <td>T_0</td>\n",
       "      <td>test_2021-03-01 02:30:02.237421</td>\n",
       "      <td>s_0</td>\n",
       "      <td>ct_0</td>\n",
       "      <td>f</td>\n",
       "      <td>2001</td>\n",
       "      <td>NaN</td>\n",
       "      <td>NaN</td>\n",
       "    </tr>\n",
       "    <tr>\n",
       "      <th>298292</th>\n",
       "      <td>T_0</td>\n",
       "      <td>test_2021-03-01 02:30:02.237423</td>\n",
       "      <td>s_0</td>\n",
       "      <td>ct_1</td>\n",
       "      <td>m</td>\n",
       "      <td>2001</td>\n",
       "      <td>NaN</td>\n",
       "      <td>NaN</td>\n",
       "    </tr>\n",
       "    <tr>\n",
       "      <th>317233</th>\n",
       "      <td>T_0</td>\n",
       "      <td>test_2021-03-01 02:30:02.237448</td>\n",
       "      <td>s_0</td>\n",
       "      <td>ct_0</td>\n",
       "      <td>f</td>\n",
       "      <td>2001</td>\n",
       "      <td>NaN</td>\n",
       "      <td>NaN</td>\n",
       "    </tr>\n",
       "  </tbody>\n",
       "</table>\n",
       "<p>74 rows × 8 columns</p>\n",
       "</div>"
      ],
      "text/plain": [
       "       id_prod                             date session_id client_id sex  \\\n",
       "1431       T_0  test_2021-03-01 02:30:02.237420        s_0      ct_1   m   \n",
       "2365       T_0  test_2021-03-01 02:30:02.237446        s_0      ct_1   m   \n",
       "2895       T_0  test_2021-03-01 02:30:02.237414        s_0      ct_1   m   \n",
       "5955       T_0  test_2021-03-01 02:30:02.237441        s_0      ct_0   f   \n",
       "7283       T_0  test_2021-03-01 02:30:02.237434        s_0      ct_1   m   \n",
       "...        ...                              ...        ...       ...  ..   \n",
       "264229     T_0  test_2021-03-01 02:30:02.237416        s_0      ct_1   m   \n",
       "288815     T_0  test_2021-03-01 02:30:02.237415        s_0      ct_1   m   \n",
       "293003     T_0  test_2021-03-01 02:30:02.237421        s_0      ct_0   f   \n",
       "298292     T_0  test_2021-03-01 02:30:02.237423        s_0      ct_1   m   \n",
       "317233     T_0  test_2021-03-01 02:30:02.237448        s_0      ct_0   f   \n",
       "\n",
       "        birth  price  categ  \n",
       "1431     2001    NaN    NaN  \n",
       "2365     2001    NaN    NaN  \n",
       "2895     2001    NaN    NaN  \n",
       "5955     2001    NaN    NaN  \n",
       "7283     2001    NaN    NaN  \n",
       "...       ...    ...    ...  \n",
       "264229   2001    NaN    NaN  \n",
       "288815   2001    NaN    NaN  \n",
       "293003   2001    NaN    NaN  \n",
       "298292   2001    NaN    NaN  \n",
       "317233   2001    NaN    NaN  \n",
       "\n",
       "[74 rows x 8 columns]"
      ]
     },
     "execution_count": 30,
     "metadata": {},
     "output_type": "execute_result"
    }
   ],
   "source": [
    "# afficher les données 'test' et qui n'apportent pas d'info au final ...\n",
    "test = new_data[\n",
    "    (new_data['date'].str.contains('test_')) &\n",
    "    (new_data['id_prod']=='T_0') &  \n",
    "    (new_data['session_id']=='s_0')]\n",
    "test"
   ]
  },
  {
   "cell_type": "code",
   "execution_count": 31,
   "id": "673a2e25",
   "metadata": {},
   "outputs": [
    {
     "data": {
      "text/html": [
       "<div>\n",
       "<style scoped>\n",
       "    .dataframe tbody tr th:only-of-type {\n",
       "        vertical-align: middle;\n",
       "    }\n",
       "\n",
       "    .dataframe tbody tr th {\n",
       "        vertical-align: top;\n",
       "    }\n",
       "\n",
       "    .dataframe thead th {\n",
       "        text-align: right;\n",
       "    }\n",
       "</style>\n",
       "<table border=\"1\" class=\"dataframe\">\n",
       "  <thead>\n",
       "    <tr style=\"text-align: right;\">\n",
       "      <th></th>\n",
       "      <th>index</th>\n",
       "      <th>id_prod</th>\n",
       "      <th>date</th>\n",
       "      <th>session_id</th>\n",
       "      <th>client_id</th>\n",
       "      <th>sex</th>\n",
       "      <th>birth</th>\n",
       "      <th>price</th>\n",
       "      <th>categ</th>\n",
       "    </tr>\n",
       "  </thead>\n",
       "  <tbody>\n",
       "    <tr>\n",
       "      <th>0</th>\n",
       "      <td>0</td>\n",
       "      <td>0_1483</td>\n",
       "      <td>2021-04-10 18:37:28.723910</td>\n",
       "      <td>s_18746</td>\n",
       "      <td>c_4450</td>\n",
       "      <td>f</td>\n",
       "      <td>1977</td>\n",
       "      <td>4.99</td>\n",
       "      <td>0.0</td>\n",
       "    </tr>\n",
       "    <tr>\n",
       "      <th>1</th>\n",
       "      <td>1</td>\n",
       "      <td>2_226</td>\n",
       "      <td>2022-02-03 01:55:53.276402</td>\n",
       "      <td>s_159142</td>\n",
       "      <td>c_277</td>\n",
       "      <td>f</td>\n",
       "      <td>2000</td>\n",
       "      <td>65.75</td>\n",
       "      <td>2.0</td>\n",
       "    </tr>\n",
       "    <tr>\n",
       "      <th>2</th>\n",
       "      <td>2</td>\n",
       "      <td>1_374</td>\n",
       "      <td>2021-09-23 15:13:46.938559</td>\n",
       "      <td>s_94290</td>\n",
       "      <td>c_4270</td>\n",
       "      <td>f</td>\n",
       "      <td>1979</td>\n",
       "      <td>10.71</td>\n",
       "      <td>1.0</td>\n",
       "    </tr>\n",
       "    <tr>\n",
       "      <th>3</th>\n",
       "      <td>3</td>\n",
       "      <td>0_2186</td>\n",
       "      <td>2021-10-17 03:27:18.783634</td>\n",
       "      <td>s_105936</td>\n",
       "      <td>c_4597</td>\n",
       "      <td>m</td>\n",
       "      <td>1963</td>\n",
       "      <td>4.20</td>\n",
       "      <td>0.0</td>\n",
       "    </tr>\n",
       "    <tr>\n",
       "      <th>4</th>\n",
       "      <td>4</td>\n",
       "      <td>0_1351</td>\n",
       "      <td>2021-07-17 20:34:25.800563</td>\n",
       "      <td>s_63642</td>\n",
       "      <td>c_1242</td>\n",
       "      <td>f</td>\n",
       "      <td>1980</td>\n",
       "      <td>8.99</td>\n",
       "      <td>0.0</td>\n",
       "    </tr>\n",
       "    <tr>\n",
       "      <th>...</th>\n",
       "      <td>...</td>\n",
       "      <td>...</td>\n",
       "      <td>...</td>\n",
       "      <td>...</td>\n",
       "      <td>...</td>\n",
       "      <td>...</td>\n",
       "      <td>...</td>\n",
       "      <td>...</td>\n",
       "      <td>...</td>\n",
       "    </tr>\n",
       "    <tr>\n",
       "      <th>336811</th>\n",
       "      <td>336885</td>\n",
       "      <td>1_671</td>\n",
       "      <td>2021-05-28 12:35:46.214839</td>\n",
       "      <td>s_40720</td>\n",
       "      <td>c_3454</td>\n",
       "      <td>m</td>\n",
       "      <td>1969</td>\n",
       "      <td>31.99</td>\n",
       "      <td>1.0</td>\n",
       "    </tr>\n",
       "    <tr>\n",
       "      <th>336812</th>\n",
       "      <td>336886</td>\n",
       "      <td>0_759</td>\n",
       "      <td>2021-06-19 00:19:23.917703</td>\n",
       "      <td>s_50568</td>\n",
       "      <td>c_6268</td>\n",
       "      <td>m</td>\n",
       "      <td>1991</td>\n",
       "      <td>22.99</td>\n",
       "      <td>0.0</td>\n",
       "    </tr>\n",
       "    <tr>\n",
       "      <th>336813</th>\n",
       "      <td>336887</td>\n",
       "      <td>0_1256</td>\n",
       "      <td>2021-03-16 17:31:59.442007</td>\n",
       "      <td>s_7219</td>\n",
       "      <td>c_4137</td>\n",
       "      <td>f</td>\n",
       "      <td>1968</td>\n",
       "      <td>11.03</td>\n",
       "      <td>0.0</td>\n",
       "    </tr>\n",
       "    <tr>\n",
       "      <th>336814</th>\n",
       "      <td>336888</td>\n",
       "      <td>2_227</td>\n",
       "      <td>2021-10-30 16:50:15.997750</td>\n",
       "      <td>s_112349</td>\n",
       "      <td>c_5</td>\n",
       "      <td>f</td>\n",
       "      <td>1994</td>\n",
       "      <td>50.99</td>\n",
       "      <td>2.0</td>\n",
       "    </tr>\n",
       "    <tr>\n",
       "      <th>336815</th>\n",
       "      <td>336889</td>\n",
       "      <td>0_1417</td>\n",
       "      <td>2021-06-26 14:38:19.732946</td>\n",
       "      <td>s_54117</td>\n",
       "      <td>c_6714</td>\n",
       "      <td>f</td>\n",
       "      <td>1968</td>\n",
       "      <td>17.99</td>\n",
       "      <td>0.0</td>\n",
       "    </tr>\n",
       "  </tbody>\n",
       "</table>\n",
       "<p>336816 rows × 9 columns</p>\n",
       "</div>"
      ],
      "text/plain": [
       "         index id_prod                        date session_id client_id sex  \\\n",
       "0            0  0_1483  2021-04-10 18:37:28.723910    s_18746    c_4450   f   \n",
       "1            1   2_226  2022-02-03 01:55:53.276402   s_159142     c_277   f   \n",
       "2            2   1_374  2021-09-23 15:13:46.938559    s_94290    c_4270   f   \n",
       "3            3  0_2186  2021-10-17 03:27:18.783634   s_105936    c_4597   m   \n",
       "4            4  0_1351  2021-07-17 20:34:25.800563    s_63642    c_1242   f   \n",
       "...        ...     ...                         ...        ...       ...  ..   \n",
       "336811  336885   1_671  2021-05-28 12:35:46.214839    s_40720    c_3454   m   \n",
       "336812  336886   0_759  2021-06-19 00:19:23.917703    s_50568    c_6268   m   \n",
       "336813  336887  0_1256  2021-03-16 17:31:59.442007     s_7219    c_4137   f   \n",
       "336814  336888   2_227  2021-10-30 16:50:15.997750   s_112349       c_5   f   \n",
       "336815  336889  0_1417  2021-06-26 14:38:19.732946    s_54117    c_6714   f   \n",
       "\n",
       "        birth  price  categ  \n",
       "0        1977   4.99    0.0  \n",
       "1        2000  65.75    2.0  \n",
       "2        1979  10.71    1.0  \n",
       "3        1963   4.20    0.0  \n",
       "4        1980   8.99    0.0  \n",
       "...       ...    ...    ...  \n",
       "336811   1969  31.99    1.0  \n",
       "336812   1991  22.99    0.0  \n",
       "336813   1968  11.03    0.0  \n",
       "336814   1994  50.99    2.0  \n",
       "336815   1968  17.99    0.0  \n",
       "\n",
       "[336816 rows x 9 columns]"
      ]
     },
     "execution_count": 31,
     "metadata": {},
     "output_type": "execute_result"
    }
   ],
   "source": [
    "new_data = new_data.drop(test.index).reset_index()\n",
    "new_data"
   ]
  },
  {
   "cell_type": "code",
   "execution_count": 32,
   "id": "fcd2aa13",
   "metadata": {},
   "outputs": [],
   "source": [
    "# Mission 2 -\n",
    "# analyse des données et trouver du sens pour comprendre les ventes\n",
    "# indicateurs de tendance centrale et de dispersion\n",
    "# analyse de concentration par courbe de Lorenz/indicateur de Gini\n",
    "# représentation graphique (histogramme, boxplot, séries temporelles)\n",
    "# analyses bivariées"
   ]
  },
  {
   "cell_type": "code",
   "execution_count": 33,
   "id": "8fc9e013",
   "metadata": {},
   "outputs": [
    {
     "data": {
      "text/plain": [
       "nan"
      ]
     },
     "execution_count": 33,
     "metadata": {},
     "output_type": "execute_result"
    }
   ],
   "source": [
    "# moyenne des prix\n",
    "moy = sum(new_data['price'])/len(new_data['price'])\n",
    "moy"
   ]
  },
  {
   "cell_type": "code",
   "execution_count": 34,
   "id": "859f71be",
   "metadata": {},
   "outputs": [
    {
     "data": {
      "text/plain": [
       "19.87"
      ]
     },
     "execution_count": 34,
     "metadata": {},
     "output_type": "execute_result"
    }
   ],
   "source": [
    "# médiane des prix\n",
    "me = statistics.median(new_data['price'])\n",
    "me"
   ]
  },
  {
   "cell_type": "code",
   "execution_count": 35,
   "id": "13e5e1de",
   "metadata": {},
   "outputs": [
    {
     "data": {
      "text/plain": [
       "nan"
      ]
     },
     "execution_count": 35,
     "metadata": {},
     "output_type": "execute_result"
    }
   ],
   "source": [
    "# calcul variance\n",
    "var = sum((xi - moy) ** 2 for xi in new_data['price'] / len(new_data['price']))\n",
    "var"
   ]
  },
  {
   "cell_type": "code",
   "execution_count": 36,
   "id": "0e0650ae",
   "metadata": {},
   "outputs": [
    {
     "data": {
      "text/plain": [
       "nan"
      ]
     },
     "execution_count": 36,
     "metadata": {},
     "output_type": "execute_result"
    }
   ],
   "source": [
    "# calcul écart-type\n",
    "var_res = var ** (0.5)\n",
    "var_res"
   ]
  },
  {
   "cell_type": "code",
   "execution_count": 37,
   "id": "a9ecdc04",
   "metadata": {},
   "outputs": [
    {
     "data": {
      "text/plain": [
       "<AxesSubplot:>"
      ]
     },
     "execution_count": 37,
     "metadata": {},
     "output_type": "execute_result"
    },
    {
     "data": {
      "image/png": "[encoded data removed]",
      "text/plain": [
       "<Figure size 432x288 with 1 Axes>"
      ]
     },
     "metadata": {
      "needs_background": "light"
     },
     "output_type": "display_data"
    }
   ],
   "source": [
    "# Boxplot sur les prix par rapport aux ventes réalisées\n",
    "new_data[['price']].boxplot()"
   ]
  },
  {
   "cell_type": "code",
   "execution_count": 38,
   "id": "ad957536",
   "metadata": {},
   "outputs": [
    {
     "data": {
      "image/png": "[encoded data removed]",
      "text/plain": [
       "<Figure size 432x288 with 1 Axes>"
      ]
     },
     "metadata": {
      "needs_background": "light"
     },
     "output_type": "display_data"
    }
   ],
   "source": [
    "# Histogramme de la répartition des prix des différents livres\n",
    "histogram = new_data['price'].plot.hist()\n",
    "plt.show()"
   ]
  },
  {
   "cell_type": "code",
   "execution_count": 39,
   "id": "00ac8a50",
   "metadata": {},
   "outputs": [
    {
     "data": {
      "image/png": "[encoded data removed]",
      "text/plain": [
       "<Figure size 432x288 with 1 Axes>"
      ]
     },
     "metadata": {
      "needs_background": "light"
     },
     "output_type": "display_data"
    }
   ],
   "source": [
    "# Histogramme de la répartition des clients par âge\n",
    "histogr = clients['birth'].plot.hist()\n",
    "\n",
    "plt.show()"
   ]
  },
  {
   "cell_type": "code",
   "execution_count": 40,
   "id": "f8fa8c98",
   "metadata": {},
   "outputs": [
    {
     "data": {
      "text/html": [
       "<div>\n",
       "<style scoped>\n",
       "    .dataframe tbody tr th:only-of-type {\n",
       "        vertical-align: middle;\n",
       "    }\n",
       "\n",
       "    .dataframe tbody tr th {\n",
       "        vertical-align: top;\n",
       "    }\n",
       "\n",
       "    .dataframe thead th {\n",
       "        text-align: right;\n",
       "    }\n",
       "</style>\n",
       "<table border=\"1\" class=\"dataframe\">\n",
       "  <thead>\n",
       "    <tr style=\"text-align: right;\">\n",
       "      <th></th>\n",
       "      <th>client_id</th>\n",
       "      <th>sex</th>\n",
       "    </tr>\n",
       "    <tr>\n",
       "      <th>birth</th>\n",
       "      <th></th>\n",
       "      <th></th>\n",
       "    </tr>\n",
       "  </thead>\n",
       "  <tbody>\n",
       "    <tr>\n",
       "      <th>1967-01-01</th>\n",
       "      <td>c_4410</td>\n",
       "      <td>f</td>\n",
       "    </tr>\n",
       "    <tr>\n",
       "      <th>1975-01-01</th>\n",
       "      <td>c_7839</td>\n",
       "      <td>f</td>\n",
       "    </tr>\n",
       "    <tr>\n",
       "      <th>1984-01-01</th>\n",
       "      <td>c_1699</td>\n",
       "      <td>f</td>\n",
       "    </tr>\n",
       "    <tr>\n",
       "      <th>1962-01-01</th>\n",
       "      <td>c_5961</td>\n",
       "      <td>f</td>\n",
       "    </tr>\n",
       "    <tr>\n",
       "      <th>1943-01-01</th>\n",
       "      <td>c_5320</td>\n",
       "      <td>m</td>\n",
       "    </tr>\n",
       "    <tr>\n",
       "      <th>...</th>\n",
       "      <td>...</td>\n",
       "      <td>...</td>\n",
       "    </tr>\n",
       "    <tr>\n",
       "      <th>1956-01-01</th>\n",
       "      <td>c_7920</td>\n",
       "      <td>m</td>\n",
       "    </tr>\n",
       "    <tr>\n",
       "      <th>1970-01-01</th>\n",
       "      <td>c_7403</td>\n",
       "      <td>f</td>\n",
       "    </tr>\n",
       "    <tr>\n",
       "      <th>1974-01-01</th>\n",
       "      <td>c_5119</td>\n",
       "      <td>m</td>\n",
       "    </tr>\n",
       "    <tr>\n",
       "      <th>1968-01-01</th>\n",
       "      <td>c_5643</td>\n",
       "      <td>f</td>\n",
       "    </tr>\n",
       "    <tr>\n",
       "      <th>1982-01-01</th>\n",
       "      <td>c_84</td>\n",
       "      <td>f</td>\n",
       "    </tr>\n",
       "  </tbody>\n",
       "</table>\n",
       "<p>8623 rows × 2 columns</p>\n",
       "</div>"
      ],
      "text/plain": [
       "           client_id sex\n",
       "birth                   \n",
       "1967-01-01    c_4410   f\n",
       "1975-01-01    c_7839   f\n",
       "1984-01-01    c_1699   f\n",
       "1962-01-01    c_5961   f\n",
       "1943-01-01    c_5320   m\n",
       "...              ...  ..\n",
       "1956-01-01    c_7920   m\n",
       "1970-01-01    c_7403   f\n",
       "1974-01-01    c_5119   m\n",
       "1968-01-01    c_5643   f\n",
       "1982-01-01      c_84   f\n",
       "\n",
       "[8623 rows x 2 columns]"
      ]
     },
     "execution_count": 40,
     "metadata": {},
     "output_type": "execute_result"
    }
   ],
   "source": [
    "# Séries temporelles\n",
    "df = pd.read_csv('clients.csv', parse_dates = ['birth'], index_col = ['birth'])\n",
    "df"
   ]
  },
  {
   "cell_type": "code",
   "execution_count": 41,
   "id": "77d3686c",
   "metadata": {},
   "outputs": [
    {
     "name": "stderr",
     "output_type": "stream",
     "text": [
      "C:\\Users\\utilisateur\\AppData\\Local\\Temp\\ipykernel_11572\\77220901.py:2: DeprecationWarning: `np.bool` is a deprecated alias for the builtin `bool`. To silence this warning, use `bool` by itself. Doing this will not modify any behavior and is safe. If you specifically wanted the numpy scalar type, use `np.bool_` here.\n",
      "Deprecated in NumPy 1.20; for more details and guidance: https://numpy.org/devdocs/release/1.20.0-notes.html#deprecations\n",
      "  heatmap = sns.heatmap(new_data.corr(), mask=np.triu(np.ones_like(new_data.corr(), dtype=np.bool)), vmin=-1, vmax=1, annot=True, cmap='BrBG')\n"
     ]
    },
    {
     "data": {
      "image/png": "[encoded data removed]",
      "text/plain": [
       "<Figure size 576x360 with 2 Axes>"
      ]
     },
     "metadata": {
      "needs_background": "light"
     },
     "output_type": "display_data"
    }
   ],
   "source": [
    "plt.figure(figsize=(8, 5))\n",
    "heatmap = sns.heatmap(new_data.corr(), mask=np.triu(np.ones_like(new_data.corr(), dtype=np.bool)), vmin=-1, vmax=1, annot=True, cmap='BrBG')\n",
    "heatmap.set_title('Triangle de corrélations', fontdict={'fontsize':16}, pad=24)\n",
    "plt.xticks(rotation=45)\n",
    "plt.show()"
   ]
  },
  {
   "cell_type": "code",
   "execution_count": null,
   "id": "68334730",
   "metadata": {},
   "outputs": [],
   "source": []
  }
 ],
 "metadata": {
  "kernelspec": {
   "display_name": "Python 3 (ipykernel)",
   "language": "python",
   "name": "python3"
  },
  "language_info": {
   "codemirror_mode": {
    "name": "ipython",
    "version": 3
   },
   "file_extension": ".py",
   "mimetype": "text/x-python",
   "name": "python",
   "nbconvert_exporter": "python",
   "pygments_lexer": "ipython3",
   "version": "3.9.12"
  }
 },
 "nbformat": 4,
 "nbformat_minor": 5
}
